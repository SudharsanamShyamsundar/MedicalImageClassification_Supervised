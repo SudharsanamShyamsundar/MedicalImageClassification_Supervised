{
 "cells": [
  {
   "cell_type": "code",
   "execution_count": 73,
   "id": "d2b7040c",
   "metadata": {},
   "outputs": [],
   "source": [
    "import numpy as np ;\n",
    "import os ;\n",
    "from PIL import Image;\n",
    "from sklearn.model_selection import train_test_split\n"
   ]
  },
  {
   "cell_type": "code",
   "execution_count": 27,
   "id": "011e791b",
   "metadata": {},
   "outputs": [],
   "source": [
    "train_datapath = 'D:/2nd Semester/Traffic Sign Classification/German-Persian';\n",
    "train_path = os.path.join(train_datapath,'Train');"
   ]
  },
  {
   "cell_type": "code",
   "execution_count": 28,
   "id": "5f6382e6",
   "metadata": {},
   "outputs": [
    {
     "name": "stdout",
     "output_type": "stream",
     "text": [
      "86\n"
     ]
    }
   ],
   "source": [
    "NUM_CLASSES = len(os.listdir(train_path));\n",
    "print(NUM_CLASSES);\n",
    "classes = {\n",
    "            0:'Speed limit (20km/h)',\n",
    "            1:'Speed limit (30km/h)', \n",
    "            2:'Speed limit (50km/h)', \n",
    "            3:'Speed limit (60km/h)', \n",
    "            4:'Speed limit (70km/h)', \n",
    "            5:'Speed limit (80km/h)', \n",
    "            6:'End of speed limit (80km/h)', \n",
    "            7:'Speed limit (100km/h)', \n",
    "            8:'Speed limit (120km/h)', \n",
    "            9:'No passing', \n",
    "            10:'No passing veh over 3.5 tons', \n",
    "            11:'Right-of-way at intersection', \n",
    "            12:'Priority road', \n",
    "            13:'Yield', \n",
    "            14:'Stop', \n",
    "            15:'No vehicles', \n",
    "            16:'Veh > 3.5 tons prohibited', \n",
    "            17:'No entry', \n",
    "            18:'General caution', \n",
    "            19:'Dangerous curve left', \n",
    "            20:'Dangerous curve right', \n",
    "            21:'Double curve', \n",
    "            22:'Bumpy road', \n",
    "            23:'Slippery road', \n",
    "            24:'Road narrows on the right', \n",
    "            25:'Road work', \n",
    "            26:'Traffic signals', \n",
    "            27:'Pedestrians', \n",
    "            28:'Children crossing', \n",
    "            29:'Bicycles crossing', \n",
    "            30:'Beware of ice/snow',\n",
    "            31:'Wild animals crossing', \n",
    "            32:'End speed + passing limits', \n",
    "            33:'Turn right ahead', \n",
    "            34:'Turn left ahead', \n",
    "            35:'Ahead only', \n",
    "            36:'Go straight or right', \n",
    "            37:'Go straight or left', \n",
    "            38:'Keep right', \n",
    "            39:'Keep left', \n",
    "            40:'Roundabout mandatory', \n",
    "            41:'End of no passing', \n",
    "            42:'End no passing veh > 3.5 tons',\n",
    "            43:'Compulsory Keep BothSide',\n",
    "            44:'Compulsory Keep Left', \n",
    "            45:'Compulsory Keep Right', \n",
    "            46:'Cycle crossing', \n",
    "            47:'Danger', \n",
    "            48:'Give Way', \n",
    "            49:'Hump', \n",
    "            50:'Left Bend', \n",
    "            51:'Left Margin', \n",
    "            52:'Left Turn Prohibited', \n",
    "            53:'Maximum Speed 30', \n",
    "            54:'Maximum Speed 40', \n",
    "            55:'Maximum Speed 50', \n",
    "            56:'Maximum Speed 60', \n",
    "            57:'Maximum Speed 70', \n",
    "            58:'Maximum Speed 80', \n",
    "            59:'Maximum Speed 90', \n",
    "            60:'MotorCycle Prohibited', \n",
    "            61:'No Entry', \n",
    "            62:'No Horn', \n",
    "            63:'NO Stopping', \n",
    "            64:'NO Waiting', \n",
    "            65:'One way Traffic', \n",
    "            66:'Park', \n",
    "            67:'Park Forbidden', \n",
    "            68:'Pedestrain', \n",
    "            69:'Pedestrian crossing', \n",
    "            70:'Right Bend', \n",
    "            71:'Right Margin', \n",
    "            72:'Right Turn Prohibited', \n",
    "            73:'Road Work',\n",
    "            74:'Roundabouts', \n",
    "            75:'School', \n",
    "            76:'School Crossing', \n",
    "            77:'Side Road Right', \n",
    "            78:'Slow', \n",
    "            79:'Speed Camera', \n",
    "            80:'STOP', \n",
    "            81:'Truck Prohibited', \n",
    "            82:'Two Way Traffic', \n",
    "            83:'U-Turn', \n",
    "            84:'U-Turn Allowed', \n",
    "            85:'U-turn Prohibited'      \n",
    "};"
   ]
  },
  {
   "cell_type": "code",
   "execution_count": 49,
   "id": "ff038c47",
   "metadata": {},
   "outputs": [],
   "source": [
    "def collecting_data(num_classes, path, img_height, img_width, counter_per_class=None):\n",
    "    data=[]\n",
    "    labels=[]\n",
    "    for i in range(num_classes):\n",
    "        count = 0\n",
    "        path_temp = os.path.join(path,str(i))\n",
    "        images = os.listdir(path_temp)\n",
    "        images = list(set(images))\n",
    "        for j in images:\n",
    "            if(count == counter_per_class):\n",
    "                break\n",
    "            try:\n",
    "                img = Image.open(path_temp + '/' + j)\n",
    "                img = img.resize((img_height,img_width))\n",
    "                img = np.array(img)\n",
    "                data.append(img)\n",
    "                labels.append(i)\n",
    "            except Exception as e:\n",
    "                print(e)\n",
    "            count+=1\n",
    "    return data,labels\n",
    "\n",
    "\n",
    "IMG_HEIGHT = 24\n",
    "IMG_WIDTH = 24\n",
    "channels = 3\n",
    "data , labels = collecting_data(NUM_CLASSES,train_path,IMG_HEIGHT,IMG_WIDTH,240)\n"
   ]
  },
  {
   "cell_type": "code",
   "execution_count": 70,
   "id": "56ee318c",
   "metadata": {},
   "outputs": [
    {
     "name": "stdout",
     "output_type": "stream",
     "text": [
      "(18629, 24, 24, 3)\n"
     ]
    }
   ],
   "source": [
    "data = np.array(data)\n",
    "labels = np.array(labels)\n",
    "print(data.shape);"
   ]
  },
  {
   "cell_type": "code",
   "execution_count": 51,
   "id": "5b811437",
   "metadata": {},
   "outputs": [],
   "source": [
    "\n",
    "#lst =  [ name for name in os.listdir(train_path) if os.path.isdir(os.path.join(train_path, name)) ];\n"
   ]
  },
  {
   "cell_type": "code",
   "execution_count": 79,
   "id": "813a6617",
   "metadata": {},
   "outputs": [],
   "source": [
    "#Here we are splitting the validation and test data size\n",
    "x_train, x_val, y_train, y_val = train_test_split(data, labels, test_size=0.2, random_state=42, shuffle=True);\n",
    "x_train = x_train/255 \n",
    "x_val = x_val/255"
   ]
  },
  {
   "cell_type": "code",
   "execution_count": 78,
   "id": "5fadf329",
   "metadata": {},
   "outputs": [
    {
     "name": "stdout",
     "output_type": "stream",
     "text": [
      "x_train shape is : (3726, 24, 24, 3)\n"
     ]
    }
   ],
   "source": [
    "print(\"x_train shape is : {}\".format(x_val.shape))"
   ]
  },
  {
   "cell_type": "code",
   "execution_count": 74,
   "id": "e74ab805",
   "metadata": {},
   "outputs": [],
   "source": [
    "img = Image.open('D:/2nd Semester/Traffic Sign Classification/German-Persian/Train/0/00000_00006_00029.png')\n",
    "img = img.resize((30,30))\n",
    "img = np.array(img)"
   ]
  },
  {
   "cell_type": "code",
   "execution_count": 94,
   "id": "ab849a59",
   "metadata": {},
   "outputs": [],
   "source": [
    "def to_one_hot(labels, dimension=NUM_CLASSES):\n",
    "    results = np.zeros((len(labels), dimension))\n",
    "    for i, label in enumerate(labels):\n",
    "        results[i,label] = 1.\n",
    "    return results"
   ]
  },
  {
   "cell_type": "code",
   "execution_count": 95,
   "id": "953ebfd6",
   "metadata": {},
   "outputs": [],
   "source": [
    "y_train = to_one_hot(y_train, NUM_CLASSES)\n",
    "y_val = to_one_hot(y_val, NUM_CLASSES)"
   ]
  },
  {
   "cell_type": "code",
   "execution_count": 96,
   "id": "40ad1b29",
   "metadata": {},
   "outputs": [
    {
     "name": "stdout",
     "output_type": "stream",
     "text": [
      "train_labels shape is : (14903, 86)\n",
      "validation_labels shape is : (3726, 86)\n"
     ]
    }
   ],
   "source": [
    "print(\"train_labels shape is : {}\".format(y_train.shape))\n",
    "print(\"validation_labels shape is : {}\".format(y_val.shape))"
   ]
  },
  {
   "cell_type": "code",
   "execution_count": null,
   "id": "d2a063e7",
   "metadata": {},
   "outputs": [],
   "source": []
  }
 ],
 "metadata": {
  "kernelspec": {
   "display_name": "Python 3",
   "language": "python",
   "name": "python3"
  },
  "language_info": {
   "codemirror_mode": {
    "name": "ipython",
    "version": 3
   },
   "file_extension": ".py",
   "mimetype": "text/x-python",
   "name": "python",
   "nbconvert_exporter": "python",
   "pygments_lexer": "ipython3",
   "version": "3.8.8"
  }
 },
 "nbformat": 4,
 "nbformat_minor": 5
}
