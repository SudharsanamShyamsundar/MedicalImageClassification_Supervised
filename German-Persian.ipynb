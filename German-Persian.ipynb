{
 "cells": [
  {
   "cell_type": "code",
   "execution_count": 151,
   "id": "4a3dfd74",
   "metadata": {},
   "outputs": [],
   "source": [
    "import numpy as np ;\n",
    "import os ;\n",
    "from PIL import Image;\n",
    "from sklearn.model_selection import train_test_split"
   ]
  },
  {
   "cell_type": "code",
   "execution_count": 152,
   "id": "88f54eef",
   "metadata": {},
   "outputs": [],
   "source": [
    "train_datapath = 'D:/2nd Semester/Traffic Sign Classification/GRPR Dataset';\n",
    "train_path = os.path.join(train_datapath,'Train');"
   ]
  },
  {
   "cell_type": "code",
   "execution_count": 153,
   "id": "808aa869",
   "metadata": {},
   "outputs": [
    {
     "name": "stdout",
     "output_type": "stream",
     "text": [
      "21\n"
     ]
    }
   ],
   "source": [
    "NUM_CLASSES = len(os.listdir(train_path));\n",
    "print(NUM_CLASSES);\n"
   ]
  },
  {
   "cell_type": "code",
   "execution_count": 154,
   "id": "61cf55fc",
   "metadata": {},
   "outputs": [
    {
     "name": "stdout",
     "output_type": "stream",
     "text": [
      "{0: 'No passing veh over 3.5 tons', 1: 'Right-of-way at intersection', 2: 'Priority road', 3: 'Veh > 3.5 tons prohibited', 4: 'General caution', 5: 'Dangerous curve left', 6: 'Dangerous curve right', 7: 'Double curve', 8: 'Bumpy road', 9: 'Slippery road', 10: 'Road narrows on the right', 11: 'End no passing veh > 3.5 tons', 12: 'Cycle crossing', 13: 'Give Way', 14: 'Hump', 15: 'Left Turn Prohibited', 16: 'MotorCycle Prohibited', 17: 'Park Forbidden', 18: 'Speed Camera', 19: 'Road Work', 20: 'School Crossing'}\n"
     ]
    }
   ],
   "source": [
    "##Below Class were concated from german and Persian , The datasets has 43 class each and I have taken 11 from German class and\n",
    "## 9 from Persian class for training the model \n",
    "class_List  = [\n",
    "    'No passing veh over 3.5 tons',\n",
    "    'Right-of-way at intersection',\n",
    "    'Priority road',\n",
    "    'Veh > 3.5 tons prohibited',\n",
    "    'General caution',\n",
    "    'Dangerous curve left',\n",
    "    'Dangerous curve right',\n",
    "    'Double curve',\n",
    "    'Bumpy road',\n",
    "    'Slippery road',\n",
    "    'Road narrows on the right',\n",
    "    'End no passing veh > 3.5 tons',\n",
    "    'Cycle crossing',\n",
    "    'Give Way',\n",
    "    'Hump',\n",
    "    'Left Turn Prohibited',\n",
    "    'MotorCycle Prohibited',\n",
    "    'Park Forbidden',\n",
    "    'Speed Camera',\n",
    "    'Road Work',\n",
    "    'School Crossing'  \n",
    "];\n",
    "\n",
    "class_trafficSign  = {}\n",
    "for idx,val in enumerate(class_List):\n",
    "    class_trafficSign[idx] = val;\n",
    "print(class_trafficSign)"
   ]
  },
  {
   "cell_type": "code",
   "execution_count": 166,
   "id": "7bd4c8ff",
   "metadata": {},
   "outputs": [],
   "source": [
    "def collecting_data(num_classes, path, img_height, img_width, counter_per_class=None):\n",
    "    data=[]\n",
    "    labels=[]\n",
    "    for i in range(num_classes):\n",
    "        count = 0\n",
    "        path_temp = os.path.join(path,str(i))\n",
    "        images = os.listdir(path_temp)\n",
    "        images = list(set(images))\n",
    "        for j in images:\n",
    "            img = Image.open(path_temp + '/' + j)\n",
    "            img = img.resize((img_height,img_width))\n",
    "            img = np.array(img)\n",
    "            data.append(img)\n",
    "            labels.append(i)\n",
    "    return data,labels\n",
    "\n",
    "IMG_HEIGHT = 24\n",
    "IMG_WIDTH = 24\n",
    "channels = 3\n",
    "data , labels = collecting_data(NUM_CLASSES,train_path,IMG_HEIGHT,IMG_WIDTH);"
   ]
  },
  {
   "cell_type": "code",
   "execution_count": 168,
   "id": "c72ef5d3",
   "metadata": {},
   "outputs": [
    {
     "name": "stdout",
     "output_type": "stream",
     "text": [
      "12102\n",
      "(12102, 24, 24, 3)\n"
     ]
    }
   ],
   "source": [
    "print(len(labels));\n",
    "data = np.array(data)\n",
    "labels = np.array(labels)\n",
    "print(data.shape);"
   ]
  },
  {
   "cell_type": "code",
   "execution_count": 169,
   "id": "9ea2d142",
   "metadata": {},
   "outputs": [
    {
     "name": "stdout",
     "output_type": "stream",
     "text": [
      "xtrain_Shape (9681, 24, 24, 3)\n",
      "xvalid_shape (2421,)\n"
     ]
    }
   ],
   "source": [
    "#Here we are splitting the validation and test data size\n",
    "x_train, x_val, y_train, y_val = train_test_split(data, labels, test_size=0.2, random_state=42, shuffle=True);\n",
    "x_train = x_train/255 \n",
    "x_val = x_val/255\n",
    "print(\"xtrain_Shape\",x_train.shape);\n",
    "print(\"xvalid_shape\",y_val.shape);"
   ]
  },
  {
   "cell_type": "code",
   "execution_count": 170,
   "id": "34d16bfe",
   "metadata": {},
   "outputs": [],
   "source": [
    "def to_one_hot(labels, dimension=NUM_CLASSES):\n",
    "    results = np.zeros((len(labels), dimension))\n",
    "    for i, label in enumerate(labels):\n",
    "        #print(type(labels))\n",
    "        results[i,label] = 1.\n",
    "    return results"
   ]
  },
  {
   "cell_type": "code",
   "execution_count": 171,
   "id": "89f87705",
   "metadata": {},
   "outputs": [
    {
     "name": "stdout",
     "output_type": "stream",
     "text": [
      "(9681, 21)\n"
     ]
    }
   ],
   "source": [
    "y_train = to_one_hot(y_train, NUM_CLASSES)\n",
    "y_val = to_one_hot(y_val, NUM_CLASSES)\n",
    "print(y_train.shape);"
   ]
  },
  {
   "cell_type": "code",
   "execution_count": 172,
   "id": "8c0cd784",
   "metadata": {},
   "outputs": [
    {
     "name": "stdout",
     "output_type": "stream",
     "text": [
      "train_labels shape is : (9681, 21)\n",
      "validation_labels shape is : (2421, 21)\n"
     ]
    }
   ],
   "source": [
    "print(\"train_labels shape is : {}\".format(y_train.shape))\n",
    "print(\"validation_labels shape is : {}\".format(y_val.shape))"
   ]
  },
  {
   "cell_type": "code",
   "execution_count": null,
   "id": "fb677f8a",
   "metadata": {},
   "outputs": [],
   "source": []
  }
 ],
 "metadata": {
  "kernelspec": {
   "display_name": "Python 3",
   "language": "python",
   "name": "python3"
  },
  "language_info": {
   "codemirror_mode": {
    "name": "ipython",
    "version": 3
   },
   "file_extension": ".py",
   "mimetype": "text/x-python",
   "name": "python",
   "nbconvert_exporter": "python",
   "pygments_lexer": "ipython3",
   "version": "3.8.8"
  }
 },
 "nbformat": 4,
 "nbformat_minor": 5
}
