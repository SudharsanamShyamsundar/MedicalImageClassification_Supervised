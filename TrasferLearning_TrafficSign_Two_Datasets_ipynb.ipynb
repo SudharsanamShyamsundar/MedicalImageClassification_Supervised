{
  "cells": [
    {
      "cell_type": "code",
      "execution_count": null,
      "metadata": {
        "colab": {
          "base_uri": "https://localhost:8080/"
        },
        "id": "h1erBwnUTODc",
        "outputId": "82359ddc-6612-4c8a-8654-19512330fb64"
      },
      "outputs": [
        {
          "name": "stdout",
          "output_type": "stream",
          "text": [
            "Sun May 15 22:12:21 2022       \n",
            "+-----------------------------------------------------------------------------+\n",
            "| NVIDIA-SMI 460.32.03    Driver Version: 460.32.03    CUDA Version: 11.2     |\n",
            "|-------------------------------+----------------------+----------------------+\n",
            "| GPU  Name        Persistence-M| Bus-Id        Disp.A | Volatile Uncorr. ECC |\n",
            "| Fan  Temp  Perf  Pwr:Usage/Cap|         Memory-Usage | GPU-Util  Compute M. |\n",
            "|                               |                      |               MIG M. |\n",
            "|===============================+======================+======================|\n",
            "|   0  Tesla T4            Off  | 00000000:00:04.0 Off |                    0 |\n",
            "| N/A   38C    P8     9W /  70W |      0MiB / 15109MiB |      0%      Default |\n",
            "|                               |                      |                  N/A |\n",
            "+-------------------------------+----------------------+----------------------+\n",
            "                                                                               \n",
            "+-----------------------------------------------------------------------------+\n",
            "| Processes:                                                                  |\n",
            "|  GPU   GI   CI        PID   Type   Process name                  GPU Memory |\n",
            "|        ID   ID                                                   Usage      |\n",
            "|=============================================================================|\n",
            "|  No running processes found                                                 |\n",
            "+-----------------------------------------------------------------------------+\n"
          ]
        }
      ],
      "source": [
        "!nvidia-smi"
      ]
    },
    {
      "cell_type": "code",
      "execution_count": 1,
      "metadata": {
        "id": "yE2A53gGpsQU"
      },
      "outputs": [],
      "source": [
        "#Preprocessing Image\n",
        "from tensorflow.keras.preprocessing.image import ImageDataGenerator;\n",
        "#Model imports\n",
        "from tensorflow.keras.applications import ResNet50,VGG19\n",
        "from tensorflow.keras.applications.resnet50 import preprocess_input,decode_predictions\n",
        "from tensorflow.keras.layers import Dense,GlobalAveragePooling2D,BatchNormalization,Dropout\n",
        "from tensorflow.keras.models import Sequential;\n",
        "import pandas as pd;\n",
        "import numpy as np;\n",
        "from tqdm import tqdm\n",
        "import numpy as np\n",
        "from sklearn.metrics import confusion_matrix\n",
        "import matplotlib.pyplot as plt;\n",
        "import seaborn as sns\n",
        "from sklearn.metrics import classification_report, confusion_matrix\n",
        "import seaborn as sns"
      ]
    },
    {
      "cell_type": "markdown",
      "metadata": {
        "id": "OpNAY8KUfzyf"
      },
      "source": [
        "# Downloading Data\n",
        "German, Persian and Combined\n",
        "Just run the section all at oncem we are only downloading the data and merging \n",
        "the common classes between two different classes."
      ]
    },
    {
      "cell_type": "code",
      "execution_count": 2,
      "metadata": {
        "colab": {
          "base_uri": "https://localhost:8080/"
        },
        "id": "IiaRAjwhoH7L",
        "outputId": "61e26574-1417-4468-8f32-54c5e98a3746"
      },
      "outputs": [
        {
          "output_type": "stream",
          "name": "stdout",
          "text": [
            "Requirement already satisfied: kaggle in /usr/local/lib/python3.7/dist-packages (1.5.12)\n",
            "Requirement already satisfied: python-slugify in /usr/local/lib/python3.7/dist-packages (from kaggle) (6.1.2)\n",
            "Requirement already satisfied: six>=1.10 in /usr/local/lib/python3.7/dist-packages (from kaggle) (1.15.0)\n",
            "Requirement already satisfied: python-dateutil in /usr/local/lib/python3.7/dist-packages (from kaggle) (2.8.2)\n",
            "Requirement already satisfied: urllib3 in /usr/local/lib/python3.7/dist-packages (from kaggle) (1.24.3)\n",
            "Requirement already satisfied: certifi in /usr/local/lib/python3.7/dist-packages (from kaggle) (2021.10.8)\n",
            "Requirement already satisfied: requests in /usr/local/lib/python3.7/dist-packages (from kaggle) (2.23.0)\n",
            "Requirement already satisfied: tqdm in /usr/local/lib/python3.7/dist-packages (from kaggle) (4.64.0)\n",
            "Requirement already satisfied: text-unidecode>=1.3 in /usr/local/lib/python3.7/dist-packages (from python-slugify->kaggle) (1.3)\n",
            "Requirement already satisfied: idna<3,>=2.5 in /usr/local/lib/python3.7/dist-packages (from requests->kaggle) (2.10)\n",
            "Requirement already satisfied: chardet<4,>=3.0.2 in /usr/local/lib/python3.7/dist-packages (from requests->kaggle) (3.0.4)\n"
          ]
        }
      ],
      "source": [
        "#Upload the kaggle json generated from kaggle site\n",
        "!pip install kaggle\n",
        "!mkdir ~/.kaggle\n",
        "! cp kaggle.json ~/.kaggle/\n",
        "! chmod 600 ~/.kaggle/kaggle.json"
      ]
    },
    {
      "cell_type": "code",
      "execution_count": 3,
      "metadata": {
        "colab": {
          "base_uri": "https://localhost:8080/"
        },
        "id": "cIThdrwBpI_s",
        "outputId": "523a0ff8-d246-42b5-93d5-e1738a5b0c59"
      },
      "outputs": [
        {
          "output_type": "stream",
          "name": "stdout",
          "text": [
            "Downloading gtsrb-german-traffic-sign.zip to /content\n",
            " 97% 592M/612M [00:02<00:00, 261MB/s]\n",
            "100% 612M/612M [00:02<00:00, 230MB/s]\n"
          ]
        }
      ],
      "source": [
        "#German Dataset\n",
        "!kaggle datasets download -d meowmeowmeowmeowmeow/gtsrb-german-traffic-sign/\n"
      ]
    },
    {
      "cell_type": "code",
      "execution_count": 4,
      "metadata": {
        "id": "uN21l9gHrAJA"
      },
      "outputs": [],
      "source": [
        "!mkdir German"
      ]
    },
    {
      "cell_type": "code",
      "execution_count": 5,
      "metadata": {
        "id": "Qgc7sBctyzPU"
      },
      "outputs": [],
      "source": [
        "%%capture\n",
        "!unzip gtsrb-german-traffic-sign -d German"
      ]
    },
    {
      "cell_type": "code",
      "execution_count": 6,
      "metadata": {
        "colab": {
          "base_uri": "https://localhost:8080/"
        },
        "id": "gbB1-R2pmE9M",
        "outputId": "42934868-8606-4fd2-d20e-a68e30b1a06a"
      },
      "outputs": [
        {
          "output_type": "stream",
          "name": "stdout",
          "text": [
            "Downloading persian-traffic-sign-dataset-ptsd.zip to /content\n",
            " 98% 533M/544M [00:03<00:00, 135MB/s]\n",
            "100% 544M/544M [00:03<00:00, 163MB/s]\n"
          ]
        }
      ],
      "source": [
        "#Persian Dataset\n",
        "!kaggle datasets download -d saraparsaseresht/persian-traffic-sign-dataset-ptsd --force"
      ]
    },
    {
      "cell_type": "code",
      "execution_count": 7,
      "metadata": {
        "id": "FIouVGKtrib-"
      },
      "outputs": [],
      "source": [
        "!mkdir Persian"
      ]
    },
    {
      "cell_type": "code",
      "execution_count": 8,
      "metadata": {
        "id": "LyrVsWjmrYHs"
      },
      "outputs": [],
      "source": [
        "%%capture\n",
        "!unzip persian-traffic-sign-dataset-ptsd -d Persian"
      ]
    },
    {
      "cell_type": "code",
      "execution_count": 9,
      "metadata": {
        "id": "7106Dt13rvo7"
      },
      "outputs": [],
      "source": [
        "# Data combining for German und Persian \n",
        "import shutil\n",
        "import os\n",
        "#!mkdir Combined\n",
        "\n",
        "ger_map = [1, 2, 3, 4, 5, 10, 13, 14, 17, 18, 22, 25, 27, 28, 29, 33, 34, 35, 38, 39, 40]\n",
        "for fol in range(len(ger_map)):\n",
        "  source_dir = f'/content/German/Train/{ger_map[fol]}'\n",
        "  destination_dir = f'/content/Combined/{fol}'\n",
        "  shutil.copytree(source_dir, destination_dir)"
      ]
    },
    {
      "cell_type": "code",
      "execution_count": 10,
      "metadata": {
        "colab": {
          "base_uri": "https://localhost:8080/"
        },
        "id": "5bLkm6TRr3Y9",
        "outputId": "6c1bd553-8c13-4749-870c-66f789020a10"
      },
      "outputs": [
        {
          "output_type": "stream",
          "name": "stdout",
          "text": [
            "Length of data before merging  2250\n"
          ]
        }
      ],
      "source": [
        "german_cominedlength = len(os.listdir('/content/Combined/1'))\n",
        "print(\"Length of data before merging \",german_cominedlength)"
      ]
    },
    {
      "cell_type": "code",
      "execution_count": 11,
      "metadata": {
        "id": "3CvM6dN-tsdl"
      },
      "outputs": [],
      "source": [
        "import os\n",
        "# new_values =  {\n",
        "#     1 :'10_Maximum Speed 30',\n",
        "#     2:'12_Maximum Speed 50',\n",
        "#     3:'13_Maximum Speed 60',\n",
        "#     4:'14_Maximum Speed 70',\n",
        "#     5:'15_Maximum Speed 80',\n",
        "#     10:'38_Truck Prohibited',\n",
        "#     13:'5_Give Way',\n",
        "#     14:'37_STOP',\n",
        "#     17:'18_No Entry',\n",
        "#     18:'4_Danger',\n",
        "#     22:'6_Hump',\n",
        "#     25:'30_Road Work',\n",
        "#     27:'26_Pedestrian crossing',\n",
        "#     28:'33_School Crossing',\n",
        "#     29:'3_Cycle crossing',\n",
        "#     33:'27_Right Bend',\n",
        "#     34:'7_Left Bend',\n",
        "#     35:'22_One way Traffic',\n",
        "#     38:'2_Compulsory Keep Right',\n",
        "#     39:'1_Compulsory Keep Left',\n",
        "#     40:'31_Roundabouts' \n",
        "#     }\n",
        "\n",
        "\n",
        "# for key,value in new_values.items():\n",
        "#   source_dir = f'/content/Persian/PTSD_Recognition/PTSD_Recognition/train/{value}';\n",
        "#   for files in os.listdir(source_dir):\n",
        "#     source = f'/content/Persian/PTSD_Recognition/PTSD_Recognition/train/{value}/{files}';\n",
        "#     destination_dir =  f'/content/Combined/{key}';\n",
        "#     shutil.copy(source,destination_dir);\n",
        "\n",
        "per_map = ['10_Maximum Speed 30', '12_Maximum Speed 50', '13_Maximum Speed 60', '14_Maximum Speed 70', '15_Maximum Speed 80', '38_Truck Prohibited', '5_Give Way', '37_STOP', '18_No Entry', '4_Danger', '6_Hump', '30_Road Work', '26_Pedestrian crossing', '33_School Crossing', '3_Cycle crossing', '27_Right Bend', '7_Left Bend', '22_One way Traffic', '2_Compulsory Keep Right', '1_Compulsory Keep Left', '31_Roundabouts']\n",
        "\n",
        "for fol in range(len(per_map)):\n",
        "  source_dir = f'/content/Persian/PTSD_Recognition/PTSD_Recognition/train/{per_map[fol]}';\n",
        "  for files in os.listdir(source_dir):\n",
        "    source = f'/content/Persian/PTSD_Recognition/PTSD_Recognition/train/{per_map[fol]}/{files}';\n",
        "    destination_dir =  f'/content/Combined/{fol}';\n",
        "    shutil.copy(source,destination_dir);\n",
        "    "
      ]
    },
    {
      "cell_type": "code",
      "execution_count": null,
      "metadata": {
        "colab": {
          "base_uri": "https://localhost:8080/"
        },
        "id": "e2p89u_Rtvlw",
        "outputId": "ae4ae584-1a78-4775-e0a1-3855646ab57a"
      },
      "outputs": [
        {
          "name": "stdout",
          "output_type": "stream",
          "text": [
            "Length of data after merging  2500\n"
          ]
        }
      ],
      "source": [
        "german_cominedlength = len(os.listdir('/content/Combined/1'))\n",
        "print(\"Length of data after merging \",german_cominedlength)"
      ]
    },
    {
      "cell_type": "markdown",
      "metadata": {
        "id": "GtwT2wPZgXxb"
      },
      "source": [
        "# Generating CSV ; Persian and Combined"
      ]
    },
    {
      "cell_type": "code",
      "execution_count": 12,
      "metadata": {
        "id": "mwgFY8qNiUex"
      },
      "outputs": [],
      "source": [
        "#For generating the persian csv with class id \n",
        "def generate_PersianCSV():\n",
        "  #Only for Persian Dataset\n",
        "  df = pd.read_csv('/content/Persian/testset_CSV.csv',sep='\\t')\n",
        "  df = df[\"file,species\"].str.split(',', 1,expand = True)\n",
        "  df.columns=['path','class']\n",
        "  #As you see only class names are mentioned in the csv, and we need classId ?\n",
        "  #Keys for Persian Dataset:\n",
        "\n",
        "  check_dict = {            \n",
        "              0:'Compulsory Keep BothSide',\n",
        "              1:'Compulsory Keep Left', \n",
        "              2:'Compulsory Keep Right', \n",
        "              3:'Cycle crossing', \n",
        "              4:'Danger', \n",
        "              5:'Give Way', \n",
        "              6:'Hump', \n",
        "              7:'Left Bend', \n",
        "              8:'Left Margin', \n",
        "              9:'Left Turn Prohibited', \n",
        "              10:'Maximum Speed 30', \n",
        "              11:'Maximum Speed 40', \n",
        "              12:'Maximum Speed 50', \n",
        "              13:'Maximum Speed 60', \n",
        "              14:'Maximum Speed 70', \n",
        "              15:'Maximum Speed 80', \n",
        "              16:'Maximum Speed 90', \n",
        "              17:'MotorCycle Prohibited', \n",
        "              18:'No Entry', \n",
        "              19:'No Horn', \n",
        "              20:'NO Stopping', \n",
        "              21:'NO Waiting', \n",
        "              22:'One way Traffic', \n",
        "              23:'Park', \n",
        "              24:'Park Forbidden', \n",
        "              25:'Pedestrain', \n",
        "              26:'Pedestrian crossing', \n",
        "              27:'Right Bend', \n",
        "              28:'Right Margin', \n",
        "              29:'Right Turn Prohibited', \n",
        "              30:'Road Work',\n",
        "              31:'Roundabouts', \n",
        "              32:'School', \n",
        "              33:'School Crossing', \n",
        "              34:'Side Road Right', \n",
        "              35:'Slow', \n",
        "              36:'Speed Camera', \n",
        "              37:'STOP', \n",
        "              38:'Truck Prohibited', \n",
        "              39:'Two Way Traffic', \n",
        "              40:'U-Turn', \n",
        "              41:'U-Turn Allowed', \n",
        "              42:'U-turn Prohibited'\n",
        "              }\n",
        "\n",
        "  for idx,val in enumerate(df['class']):\n",
        "    for key,dictval in check_dict.items():\n",
        "      if dictval == val:\n",
        "        df.loc[idx,'classid'] = key;\n",
        "\n",
        "  for idx,val in enumerate(df['path']):\n",
        "    df.loc[idx,'path'] = f'/content/Persian/PTSD_Recognition/PTSD_Recognition/test/PTSD_{val}'\n",
        "\n",
        "  df = df.dropna()# Removing classId with NAN\n",
        "  len(df.classid.unique())\n",
        "  df.to_csv(r'PersianTest.csv', index = False)\n",
        "  print(df.columns)\n",
        "  display(df)\n",
        "  return df\n",
        "  "
      ]
    },
    {
      "cell_type": "code",
      "execution_count": 13,
      "metadata": {
        "colab": {
          "base_uri": "https://localhost:8080/"
        },
        "id": "hQ67ustoXexz",
        "outputId": "0e505dd8-1ce1-442f-9a2e-e2fde61623f6"
      },
      "outputs": [
        {
          "output_type": "stream",
          "name": "stdout",
          "text": [
            "2156\n"
          ]
        }
      ],
      "source": [
        "first_class = os.listdir('/content/Combined/5');\n",
        "print(len(first_class))"
      ]
    },
    {
      "cell_type": "markdown",
      "metadata": {
        "id": "dk8h4hsiZizh"
      },
      "source": [
        "# Look at Number of Images per class\n"
      ]
    },
    {
      "cell_type": "code",
      "execution_count": 14,
      "metadata": {
        "colab": {
          "base_uri": "https://localhost:8080/"
        },
        "id": "OrUaMsjtAWsY",
        "outputId": "70360b46-96d0-453e-e815-f904f2712ff7"
      },
      "outputs": [
        {
          "output_type": "execute_result",
          "data": {
            "text/plain": [
              "{'0': 2697,\n",
              " '1': 2500,\n",
              " '10': 693,\n",
              " '11': 1639,\n",
              " '12': 537,\n",
              " '13': 874,\n",
              " '14': 932,\n",
              " '15': 779,\n",
              " '16': 531,\n",
              " '17': 1884,\n",
              " '18': 2773,\n",
              " '19': 669,\n",
              " '2': 1698,\n",
              " '20': 857,\n",
              " '3': 2022,\n",
              " '4': 1936,\n",
              " '5': 2156,\n",
              " '6': 2544,\n",
              " '7': 1109,\n",
              " '8': 2040,\n",
              " '9': 1599}"
            ]
          },
          "metadata": {},
          "execution_count": 14
        }
      ],
      "source": [
        "#Data analysis: \n",
        "#Data analysis: \n",
        "# Before Oversampling\n",
        "import os\n",
        "combined_dictionary = {};\n",
        "path = os.listdir('/content/Combined/');\n",
        "base_path = '/content/Combined/';\n",
        "\n",
        "for folder in path:\n",
        "  key = str(folder)\n",
        "  folder_path = os.path.join(base_path,folder);\n",
        "  combined_dictionary[key] = (len(os.listdir(folder_path)))\n",
        "\n",
        "combined_dictionary"
      ]
    },
    {
      "cell_type": "code",
      "execution_count": 15,
      "metadata": {
        "colab": {
          "base_uri": "https://localhost:8080/",
          "height": 624
        },
        "id": "DCRyFF7FPan1",
        "outputId": "2d0b20f5-fcb7-44df-8ae6-637c763c9169"
      },
      "outputs": [
        {
          "output_type": "display_data",
          "data": {
            "text/plain": [
              "<Figure size 720x720 with 1 Axes>"
            ],
            "image/png": "[encoded data removed]"
          },
          "metadata": {
            "needs_background": "light"
          }
        }
      ],
      "source": [
        "#Dataimbalance issues plotted \n",
        "import matplotlib.pyplot as plt\n",
        "# Bar chart with day against tip\n",
        "plt.figure(figsize=(10,10))\n",
        "plt.bar(combined_dictionary.keys(), combined_dictionary.values(),width=0.75)\n",
        "ticks = range(0,len(combined_dictionary.keys()));\n",
        "labels = combined_dictionary.keys();\n",
        "plt.xticks(ticks, labels,rotation=90)\n",
        "plt.title(\"dataset Imbalance issues\")\n",
        "  \n",
        "# Setting the X and Y labels\n",
        "plt.xlabel('classes')\n",
        "plt.ylabel('Total Images')\n",
        "\n",
        "# Adding the legends\n",
        "plt.show()"
      ]
    },
    {
      "cell_type": "code",
      "execution_count": null,
      "metadata": {
        "id": "Za_kWFvjE8CH"
      },
      "outputs": [],
      "source": [
        "#Dont Run Oversampling and UnderSampling Section "
      ]
    },
    {
      "cell_type": "markdown",
      "metadata": {
        "id": "idt9oV-cFEoJ"
      },
      "source": [
        "#Dont Run Oversampling and UnderSampling Section below"
      ]
    },
    {
      "cell_type": "markdown",
      "metadata": {
        "id": "OenczC7hPLn0"
      },
      "source": [
        "# OverSampling the data. for the Combined Dataset "
      ]
    },
    {
      "cell_type": "code",
      "execution_count": null,
      "metadata": {
        "colab": {
          "base_uri": "https://localhost:8080/"
        },
        "id": "uwdMnysxjf9P",
        "outputId": "97365693-93cd-4872-f787-9647e1062f18"
      },
      "outputs": [
        {
          "name": "stdout",
          "output_type": "stream",
          "text": [
            "[10, 16, 14, 12, 20, 13, 15, 19]\n"
          ]
        }
      ],
      "source": [
        "# The dataset is highly imbalanced for the combined dataset, picking the files which has less than 1000;\n",
        "new_folderList = []\n",
        "for key in combined_dictionary:\n",
        "  if combined_dictionary.get(key) <= 1000:\n",
        "    new_folderList.append(int(key))\n",
        "  else:\n",
        "    pass;\n",
        "  \n",
        "print(new_folderList)\n",
        "#After than we can make use of this \n",
        "target_path = '/content/Oversampling/'\n",
        "base_path = '/content/Combined/';"
      ]
    },
    {
      "cell_type": "code",
      "execution_count": null,
      "metadata": {
        "id": "LxPkcpV2oMgs"
      },
      "outputs": [],
      "source": [
        "for fol in range(len(new_folderList)):\n",
        "  source_dir = f'/content/Combined/{new_folderList[fol]}'\n",
        "  destination_dir = f'/content/Oversampled/{new_folderList[fol]}'\n",
        "  shutil.copytree(source_dir, destination_dir)   "
      ]
    },
    {
      "cell_type": "code",
      "execution_count": null,
      "metadata": {
        "colab": {
          "base_uri": "https://localhost:8080/"
        },
        "id": "w8j9nhBo5dOl",
        "outputId": "b3bd2a90-f8d8-432e-ec02-287131ef4c3d"
      },
      "outputs": [
        {
          "name": "stdout",
          "output_type": "stream",
          "text": [
            "['10', '16', '14', '12', '20', '13', '15', '19']\n"
          ]
        }
      ],
      "source": [
        "import os\n",
        "directories = os.listdir('/content/Oversampled');\n",
        "print(directories)\n",
        "for fols in directories:\n",
        "    files = os.listdir(f'/content/Oversampled/{fols}')\n",
        "    for count, old_name in enumerate(files):\n",
        "        old_filepath = f'/content/Oversampled/{fols}/{old_name}';\n",
        "        f_name, f_ext = os.path.splitext(old_name)\n",
        "        f_name = old_name + str(count)\n",
        "        new_name = f'{f_name}{f_ext}'\n",
        "        new_filepath = f'/content/Oversampled/{fols}/{new_name}'\n",
        "        os.rename(old_filepath, new_filepath)"
      ]
    },
    {
      "cell_type": "code",
      "execution_count": null,
      "metadata": {
        "id": "Bd6_lloEsIQh"
      },
      "outputs": [],
      "source": [
        "for fol in range(len(new_folderList)):\n",
        "  source_dir = f'/content/Oversampled/{new_folderList[fol]}';\n",
        "  for files in os.listdir(source_dir):\n",
        "    source = f'/content/Oversampled/{new_folderList[fol]}/{files}';\n",
        "    destination_dir =  f'/content/Combined/{new_folderList[fol]}';\n",
        "    shutil.copy(source, destination_dir)\n"
      ]
    },
    {
      "cell_type": "code",
      "execution_count": null,
      "metadata": {
        "colab": {
          "base_uri": "https://localhost:8080/"
        },
        "id": "Gz0_7Y3vtF5o",
        "outputId": "d86f9420-c203-44eb-9bd4-3e59bd0809cd"
      },
      "outputs": [
        {
          "data": {
            "text/plain": [
              "{'6': 2544,\n",
              " '11': 1639,\n",
              " '17': 1884,\n",
              " '0': 2697,\n",
              " '10': 1386,\n",
              " '16': 1062,\n",
              " '14': 1864,\n",
              " '3': 2022,\n",
              " '1': 2500,\n",
              " '12': 1074,\n",
              " '5': 2156,\n",
              " '20': 1714,\n",
              " '7': 1109,\n",
              " '18': 2773,\n",
              " '13': 1748,\n",
              " '2': 1698,\n",
              " '15': 1558,\n",
              " '9': 1599,\n",
              " '19': 1338,\n",
              " '8': 2040,\n",
              " '4': 1936}"
            ]
          },
          "execution_count": 48,
          "metadata": {},
          "output_type": "execute_result"
        }
      ],
      "source": [
        "for folder in path:\n",
        "  key = str(folder)\n",
        "  folder_path = os.path.join('/content/Combined',folder);\n",
        "  combined_dictionary[key] = (len(os.listdir(folder_path)))\n",
        "\n",
        "combined_dictionary"
      ]
    },
    {
      "cell_type": "code",
      "execution_count": null,
      "metadata": {
        "id": "VdmsonILFdwY",
        "outputId": "c8b74fbc-c5a9-4b9a-c256-09117153d654"
      },
      "outputs": [
        {
          "data": {
            "image/png": "[encoded data removed]",
            "text/plain": [
              "<Figure size 720x720 with 1 Axes>"
            ]
          },
          "metadata": {},
          "output_type": "display_data"
        }
      ],
      "source": [
        "import matplotlib.pyplot as plt\n",
        "# Bar chart with day against tip\n",
        "plt.figure(figsize=(10,10))\n",
        "plt.bar(combined_dictionary.keys(), combined_dictionary.values(),width=0.75)\n",
        "ticks = range(0,len(combined_dictionary.keys()));\n",
        "labels = combined_dictionary.keys();\n",
        "plt.xticks(ticks, labels,rotation=90)\n",
        "plt.title(\"dataset Imbalance issues\")\n",
        "  \n",
        "# Setting the X and Y labels\n",
        "plt.xlabel('classes')\n",
        "plt.ylabel('Total Images')\n",
        "\n",
        "# Adding the legends\n",
        "plt.show()"
      ]
    },
    {
      "cell_type": "markdown",
      "metadata": {
        "id": "-IHSaPPzvawn"
      },
      "source": [
        "# underSampling"
      ]
    },
    {
      "cell_type": "code",
      "execution_count": null,
      "metadata": {
        "colab": {
          "base_uri": "https://localhost:8080/",
          "height": 244
        },
        "id": "Pck2o1p1vfbq",
        "outputId": "9490a756-d053-4065-bc7d-58566da727cb"
      },
      "outputs": [
        {
          "name": "stdout",
          "output_type": "stream",
          "text": [
            "['6', '11', '17', '0', '10', '16', '14', '3', '1', '12', '5', '20', '7', '18', '13', '2', '15', '9', '19', '8', '4']\n"
          ]
        }
      ],
      "source": [
        "pruned_list = []\n",
        "for key, value in combined_dictionary.items():\n",
        "  if combined_dictionary[key] > 1000:\n",
        "    pruned_list.append(key);\n",
        "print(pruned_list)"
      ]
    },
    {
      "cell_type": "code",
      "execution_count": null,
      "metadata": {
        "id": "LRV1_O5evh3X"
      },
      "outputs": [],
      "source": [
        "from random import sample;\n",
        "for fileindex in pruned_list:\n",
        "  files = os.listdir(f'/content/Combined/{fileindex}');\n",
        "  max_files = len(files) - 1000\n",
        "  if max_files > 0:\n",
        "    for pruned in sample(files,max_files):\n",
        "      os.remove(f'/content/Combined/{fileindex}/{pruned}');\n",
        "  else:\n",
        "    pass"
      ]
    },
    {
      "cell_type": "code",
      "execution_count": null,
      "metadata": {
        "colab": {
          "base_uri": "https://localhost:8080/"
        },
        "id": "QWDhnbt5yN46",
        "outputId": "3e76665c-4f4f-4ab7-e5f0-372de8d4889d"
      },
      "outputs": [
        {
          "data": {
            "text/plain": [
              "{'6': 1000,\n",
              " '11': 1000,\n",
              " '17': 1000,\n",
              " '0': 1000,\n",
              " '10': 1000,\n",
              " '16': 1000,\n",
              " '14': 1000,\n",
              " '3': 1000,\n",
              " '1': 1000,\n",
              " '12': 1000,\n",
              " '5': 1000,\n",
              " '20': 1000,\n",
              " '7': 1000,\n",
              " '18': 1000,\n",
              " '13': 1000,\n",
              " '2': 1000,\n",
              " '15': 1000,\n",
              " '9': 1000,\n",
              " '19': 1000,\n",
              " '8': 1000,\n",
              " '4': 1000}"
            ]
          },
          "execution_count": 55,
          "metadata": {},
          "output_type": "execute_result"
        }
      ],
      "source": [
        "import os\n",
        "combined_dictionary = {};\n",
        "path = os.listdir('/content/Combined/');\n",
        "base_path = '/content/Combined/';\n",
        "\n",
        "for folder in path:\n",
        "  key = str(folder)\n",
        "  folder_path = os.path.join(base_path,folder);\n",
        "  combined_dictionary[key] = (len(os.listdir(folder_path)))\n",
        "\n",
        "combined_dictionary"
      ]
    },
    {
      "cell_type": "code",
      "execution_count": null,
      "metadata": {
        "colab": {
          "base_uri": "https://localhost:8080/",
          "height": 624
        },
        "id": "23ovugjsYM-D",
        "outputId": "599fdeb1-7683-443d-e082-0ca4b9236c1c"
      },
      "outputs": [
        {
          "data": {
            "image/png": "[encoded data removed]",
            "text/plain": [
              "<Figure size 720x720 with 1 Axes>"
            ]
          },
          "metadata": {},
          "output_type": "display_data"
        }
      ],
      "source": [
        "#Dataimbalance issues plotted \n",
        "import matplotlib.pyplot as plt\n",
        "# Bar chart with day against tip\n",
        "plt.figure(figsize=(10,10))\n",
        "plt.bar(combined_dictionary.keys(), combined_dictionary.values(),width=0.75)\n",
        "ticks = range(0,len(combined_dictionary.keys()));\n",
        "labels = combined_dictionary.keys();\n",
        "plt.xticks(ticks, labels,rotation=90)\n",
        "plt.title(\"dataset Imbalance issues after undersampling\")\n",
        "  \n",
        "# Setting the X and Y labels\n",
        "plt.xlabel('classes')\n",
        "plt.ylabel('Total Images')\n",
        "\n",
        "# Adding the legends\n",
        "plt.show()"
      ]
    },
    {
      "cell_type": "markdown",
      "metadata": {
        "id": "8zpOLfwwYF7m"
      },
      "source": [
        "# Data Preprocessing\n",
        "Change DataSetPath for German or Persian\n"
      ]
    },
    {
      "cell_type": "markdown",
      "metadata": {
        "id": "MCY9GrWCSwqh"
      },
      "source": [
        "# **Test Dataset**"
      ]
    },
    {
      "cell_type": "code",
      "execution_count": null,
      "metadata": {
        "id": "3fihtUmGIC1P"
      },
      "outputs": [],
      "source": [
        ""
      ]
    },
    {
      "cell_type": "code",
      "execution_count": null,
      "metadata": {
        "colab": {
          "base_uri": "https://localhost:8080/",
          "height": 323
        },
        "id": "wtnxeTjNIC7H",
        "outputId": "668fe5e7-7326-414e-e66a-76081ea29e26"
      },
      "outputs": [
        {
          "ename": "FileNotFoundError",
          "evalue": "ignored",
          "output_type": "error",
          "traceback": [
            "\u001b[0;31m---------------------------------------------------------------------------\u001b[0m",
            "\u001b[0;31mFileNotFoundError\u001b[0m                         Traceback (most recent call last)",
            "\u001b[0;32m<ipython-input-22-bc869858b4fb>\u001b[0m in \u001b[0;36m<module>\u001b[0;34m()\u001b[0m\n\u001b[0;32m----> 1\u001b[0;31m \u001b[0mshutil\u001b[0m\u001b[0;34m.\u001b[0m\u001b[0mrmtree\u001b[0m\u001b[0;34m(\u001b[0m\u001b[0;34m'/content/Combined_Test'\u001b[0m\u001b[0;34m,\u001b[0m \u001b[0mignore_errors\u001b[0m\u001b[0;34m=\u001b[0m\u001b[0;32mFalse\u001b[0m\u001b[0;34m,\u001b[0m \u001b[0monerror\u001b[0m\u001b[0;34m=\u001b[0m\u001b[0;32mNone\u001b[0m\u001b[0;34m)\u001b[0m\u001b[0;34m\u001b[0m\u001b[0;34m\u001b[0m\u001b[0m\n\u001b[0m",
            "\u001b[0;32m/usr/lib/python3.7/shutil.py\u001b[0m in \u001b[0;36mrmtree\u001b[0;34m(path, ignore_errors, onerror)\u001b[0m\n\u001b[1;32m    483\u001b[0m             \u001b[0morig_st\u001b[0m \u001b[0;34m=\u001b[0m \u001b[0mos\u001b[0m\u001b[0;34m.\u001b[0m\u001b[0mlstat\u001b[0m\u001b[0;34m(\u001b[0m\u001b[0mpath\u001b[0m\u001b[0;34m)\u001b[0m\u001b[0;34m\u001b[0m\u001b[0;34m\u001b[0m\u001b[0m\n\u001b[1;32m    484\u001b[0m         \u001b[0;32mexcept\u001b[0m \u001b[0mException\u001b[0m\u001b[0;34m:\u001b[0m\u001b[0;34m\u001b[0m\u001b[0;34m\u001b[0m\u001b[0m\n\u001b[0;32m--> 485\u001b[0;31m             \u001b[0monerror\u001b[0m\u001b[0;34m(\u001b[0m\u001b[0mos\u001b[0m\u001b[0;34m.\u001b[0m\u001b[0mlstat\u001b[0m\u001b[0;34m,\u001b[0m \u001b[0mpath\u001b[0m\u001b[0;34m,\u001b[0m \u001b[0msys\u001b[0m\u001b[0;34m.\u001b[0m\u001b[0mexc_info\u001b[0m\u001b[0;34m(\u001b[0m\u001b[0;34m)\u001b[0m\u001b[0;34m)\u001b[0m\u001b[0;34m\u001b[0m\u001b[0;34m\u001b[0m\u001b[0m\n\u001b[0m\u001b[1;32m    486\u001b[0m             \u001b[0;32mreturn\u001b[0m\u001b[0;34m\u001b[0m\u001b[0;34m\u001b[0m\u001b[0m\n\u001b[1;32m    487\u001b[0m         \u001b[0;32mtry\u001b[0m\u001b[0;34m:\u001b[0m\u001b[0;34m\u001b[0m\u001b[0;34m\u001b[0m\u001b[0m\n",
            "\u001b[0;32m/usr/lib/python3.7/shutil.py\u001b[0m in \u001b[0;36mrmtree\u001b[0;34m(path, ignore_errors, onerror)\u001b[0m\n\u001b[1;32m    481\u001b[0m         \u001b[0;31m# lstat()/open()/fstat() trick.\u001b[0m\u001b[0;34m\u001b[0m\u001b[0;34m\u001b[0m\u001b[0;34m\u001b[0m\u001b[0m\n\u001b[1;32m    482\u001b[0m         \u001b[0;32mtry\u001b[0m\u001b[0;34m:\u001b[0m\u001b[0;34m\u001b[0m\u001b[0;34m\u001b[0m\u001b[0m\n\u001b[0;32m--> 483\u001b[0;31m             \u001b[0morig_st\u001b[0m \u001b[0;34m=\u001b[0m \u001b[0mos\u001b[0m\u001b[0;34m.\u001b[0m\u001b[0mlstat\u001b[0m\u001b[0;34m(\u001b[0m\u001b[0mpath\u001b[0m\u001b[0;34m)\u001b[0m\u001b[0;34m\u001b[0m\u001b[0;34m\u001b[0m\u001b[0m\n\u001b[0m\u001b[1;32m    484\u001b[0m         \u001b[0;32mexcept\u001b[0m \u001b[0mException\u001b[0m\u001b[0;34m:\u001b[0m\u001b[0;34m\u001b[0m\u001b[0;34m\u001b[0m\u001b[0m\n\u001b[1;32m    485\u001b[0m             \u001b[0monerror\u001b[0m\u001b[0;34m(\u001b[0m\u001b[0mos\u001b[0m\u001b[0;34m.\u001b[0m\u001b[0mlstat\u001b[0m\u001b[0;34m,\u001b[0m \u001b[0mpath\u001b[0m\u001b[0;34m,\u001b[0m \u001b[0msys\u001b[0m\u001b[0;34m.\u001b[0m\u001b[0mexc_info\u001b[0m\u001b[0;34m(\u001b[0m\u001b[0;34m)\u001b[0m\u001b[0;34m)\u001b[0m\u001b[0;34m\u001b[0m\u001b[0;34m\u001b[0m\u001b[0m\n",
            "\u001b[0;31mFileNotFoundError\u001b[0m: [Errno 2] No such file or directory: '/content/Combined_Test'"
          ]
        }
      ],
      "source": [
        "shutil.rmtree('/content/Combined_Test', ignore_errors=False, onerror=None)"
      ]
    },
    {
      "cell_type": "code",
      "execution_count": 16,
      "metadata": {
        "colab": {
          "base_uri": "https://localhost:8080/"
        },
        "id": "4gR7VY6YEhDE",
        "outputId": "7dd4c735-b062-42b4-eab9-0b3bde286dba"
      },
      "outputs": [
        {
          "output_type": "stream",
          "name": "stderr",
          "text": [
            "/usr/local/lib/python3.7/dist-packages/pandas/core/generic.py:5516: SettingWithCopyWarning: \n",
            "A value is trying to be set on a copy of a slice from a DataFrame.\n",
            "Try using .loc[row_indexer,col_indexer] = value instead\n",
            "\n",
            "See the caveats in the documentation: https://pandas.pydata.org/pandas-docs/stable/user_guide/indexing.html#returning-a-view-versus-a-copy\n",
            "  self[name] = value\n",
            "/usr/local/lib/python3.7/dist-packages/IPython/core/interactiveshell.py:2882: FutureWarning: The error_bad_lines argument has been deprecated and will be removed in a future version.\n",
            "\n",
            "\n",
            "  exec(code_obj, self.user_global_ns, self.user_ns)\n",
            "b'Skipping line 818: expected 2 fields, saw 3\\nSkipping line 820: expected 2 fields, saw 3\\n'\n"
          ]
        }
      ],
      "source": [
        "import pandas as pd\n",
        "German_Test = pd.read_csv('German/Test.csv')\n",
        "ger_test_final = pd.DataFrame(columns=[\"Path\", \"ClassId\"])\n",
        "German_Test = German_Test[[\"Path\", \"ClassId\"]]\n",
        "ger_map = [1, 2, 3, 4, 5, 10, 13, 14, 17, 18, 22, 25, 27, 28, 29, 33, 34, 35, 38, 39, 40]\n",
        "for i in range(len(ger_map)):\n",
        "  cur = German_Test.loc[German_Test['ClassId'] == ger_map[i]]\n",
        "  cur.ClassId = i\n",
        "  ger_test_final = ger_test_final.append(cur)\n",
        "Persian_Test = pd.read_csv('Persian/testset_CSV.csv', error_bad_lines=False)\n",
        "Persian_Test.columns = [\"Path\", \"ClassId\"]\n",
        "per_test_final = pd.DataFrame(columns=[\"Path\", \"ClassId\"])\n",
        "per_test_map = ['Maximum Speed 30', 'Maximum Speed 50', 'Maximum Speed 60', 'Maximum Speed 70', 'Maximum Speed 80', 'Truck Prohibited', 'Give Way', 'STOP', 'No Entry', 'Danger', 'Hump', 'Road Work', 'Pedestrian crossing', 'School Crossing', 'Cycle crossing', 'Right Bend', 'Left Bend', 'One way Traffic', 'Compulsory Keep Right', 'Compulsory Keep Left', 'Roundabouts']\n",
        "for i in range(len(per_test_map)):\n",
        "  cur = Persian_Test.loc[Persian_Test['ClassId'] == per_test_map[i]]\n",
        "  cur.ClassId = i\n",
        "  per_test_final = per_test_final.append(cur)\n",
        "per_test_final.to_csv('per_test_final.csv')\n",
        "ger_test_final.to_csv('ger_test_final.csv')\n",
        "\n",
        "import shutil\n",
        "combined_test_final = pd.DataFrame(columns=[\"Path\", \"ClassId\"])\n",
        "!mkdir Combined_Test\n",
        "num = 0\n",
        "for _, row in per_test_final.iterrows():\n",
        "  source = \"/content/Persian/PTSD_Recognition/PTSD_Recognition/test/PTSD_\"+row[\"Path\"].lower()\n",
        "  destination =  '/content/Combined_Test/'+str(num) +'.jpg'\n",
        "  shutil.copy(source,destination)\n",
        "  combined_test_final.loc[combined_test_final.shape[0]] = [str(num), row[\"ClassId\"]]\n",
        "  num+=1\n",
        "for _, row in ger_test_final.iterrows():\n",
        "  source = '/content/German/'+row[\"Path\"].lower()\n",
        "  destination =  f'/content/Combined_Test/'+str(num) +'.jpg'\n",
        "  shutil.copy(source,destination)\n",
        "  combined_test_final.loc[combined_test_final.shape[0]] = [str(num), row[\"ClassId\"]]\n",
        "  num+=1\n",
        "combined_test_final.to_csv('combined_test_final.csv')\n"
      ]
    },
    {
      "cell_type": "code",
      "execution_count": null,
      "metadata": {
        "id": "NKP8sZO39WZ5"
      },
      "outputs": [],
      "source": [
        ""
      ]
    },
    {
      "cell_type": "code",
      "execution_count": 17,
      "metadata": {
        "id": "5PvaNdRZGbny"
      },
      "outputs": [],
      "source": [
        "#test_df = pd.read_csv('/content/combined_test_final.csv')\n",
        "for idx,val in enumerate(combined_test_final['Path']):\n",
        "    combined_test_final.loc[idx,'filepath'] = f'/content/Combined_Test/{val}.jpg'\n"
      ]
    },
    {
      "cell_type": "code",
      "execution_count": null,
      "metadata": {
        "colab": {
          "base_uri": "https://localhost:8080/"
        },
        "id": "20q-tjFeJupG",
        "outputId": "bd849dee-d004-4b96-e454-eda665906143"
      },
      "outputs": [
        {
          "data": {
            "text/plain": [
              "Index(['Path', 'ClassId', 'filepath'], dtype='object')"
            ]
          },
          "execution_count": 25,
          "metadata": {},
          "output_type": "execute_result"
        }
      ],
      "source": [
        "combined_test_final.columns\n",
        "#test_df.rename(columns = {'filepath':'path'}, inplace = True)"
      ]
    },
    {
      "cell_type": "code",
      "execution_count": 18,
      "metadata": {
        "colab": {
          "base_uri": "https://localhost:8080/"
        },
        "id": "ASaJEXM59XLY",
        "outputId": "d8516fca-0be1-4960-9e46-092dd8f2466e"
      },
      "outputs": [
        {
          "output_type": "execute_result",
          "data": {
            "text/plain": [
              "array([0, 1, 2, 3, 4, 5, 6, 7, 8, 9, 10, 11, 12, 13, 14, 15, 16, 17, 18,\n",
              "       19, 20], dtype=object)"
            ]
          },
          "metadata": {},
          "execution_count": 18
        }
      ],
      "source": [
        "combined_test_final.ClassId.unique()"
      ]
    },
    {
      "cell_type": "code",
      "execution_count": 19,
      "metadata": {
        "id": "ZBdCdkuj-Fr0"
      },
      "outputs": [],
      "source": [
        "combined_test_final.to_csv('testing.csv')"
      ]
    },
    {
      "cell_type": "code",
      "execution_count": null,
      "metadata": {
        "colab": {
          "base_uri": "https://localhost:8080/",
          "height": 206
        },
        "id": "l9zOyNGoFdwb",
        "outputId": "8f325f73-a8ac-4b07-c309-08d25b3a2115"
      },
      "outputs": [
        {
          "data": {
            "text/html": [
              "\n",
              "  <div id=\"df-01398f47-b7f7-4cce-aab0-2a0caa1de6bc\">\n",
              "    <div class=\"colab-df-container\">\n",
              "      <div>\n",
              "<style scoped>\n",
              "    .dataframe tbody tr th:only-of-type {\n",
              "        vertical-align: middle;\n",
              "    }\n",
              "\n",
              "    .dataframe tbody tr th {\n",
              "        vertical-align: top;\n",
              "    }\n",
              "\n",
              "    .dataframe thead th {\n",
              "        text-align: right;\n",
              "    }\n",
              "</style>\n",
              "<table border=\"1\" class=\"dataframe\">\n",
              "  <thead>\n",
              "    <tr style=\"text-align: right;\">\n",
              "      <th></th>\n",
              "      <th>Path</th>\n",
              "      <th>ClassId</th>\n",
              "      <th>filepath</th>\n",
              "    </tr>\n",
              "  </thead>\n",
              "  <tbody>\n",
              "    <tr>\n",
              "      <th>0</th>\n",
              "      <td>0</td>\n",
              "      <td>0</td>\n",
              "      <td>/content/Combined_Test/0.jpg</td>\n",
              "    </tr>\n",
              "    <tr>\n",
              "      <th>1</th>\n",
              "      <td>1</td>\n",
              "      <td>0</td>\n",
              "      <td>/content/Combined_Test/1.jpg</td>\n",
              "    </tr>\n",
              "    <tr>\n",
              "      <th>2</th>\n",
              "      <td>2</td>\n",
              "      <td>0</td>\n",
              "      <td>/content/Combined_Test/2.jpg</td>\n",
              "    </tr>\n",
              "    <tr>\n",
              "      <th>3</th>\n",
              "      <td>3</td>\n",
              "      <td>0</td>\n",
              "      <td>/content/Combined_Test/3.jpg</td>\n",
              "    </tr>\n",
              "    <tr>\n",
              "      <th>4</th>\n",
              "      <td>4</td>\n",
              "      <td>0</td>\n",
              "      <td>/content/Combined_Test/4.jpg</td>\n",
              "    </tr>\n",
              "  </tbody>\n",
              "</table>\n",
              "</div>\n",
              "      <button class=\"colab-df-convert\" onclick=\"convertToInteractive('df-01398f47-b7f7-4cce-aab0-2a0caa1de6bc')\"\n",
              "              title=\"Convert this dataframe to an interactive table.\"\n",
              "              style=\"display:none;\">\n",
              "        \n",
              "  <svg xmlns=\"http://www.w3.org/2000/svg\" height=\"24px\"viewBox=\"0 0 24 24\"\n",
              "       width=\"24px\">\n",
              "    <path d=\"M0 0h24v24H0V0z\" fill=\"none\"/>\n",
              "    <path d=\"M18.56 5.44l.94 2.06.94-2.06 2.06-.94-2.06-.94-.94-2.06-.94 2.06-2.06.94zm-11 1L8.5 8.5l.94-2.06 2.06-.94-2.06-.94L8.5 2.5l-.94 2.06-2.06.94zm10 10l.94 2.06.94-2.06 2.06-.94-2.06-.94-.94-2.06-.94 2.06-2.06.94z\"/><path d=\"M17.41 7.96l-1.37-1.37c-.4-.4-.92-.59-1.43-.59-.52 0-1.04.2-1.43.59L10.3 9.45l-7.72 7.72c-.78.78-.78 2.05 0 2.83L4 21.41c.39.39.9.59 1.41.59.51 0 1.02-.2 1.41-.59l7.78-7.78 2.81-2.81c.8-.78.8-2.07 0-2.86zM5.41 20L4 18.59l7.72-7.72 1.47 1.35L5.41 20z\"/>\n",
              "  </svg>\n",
              "      </button>\n",
              "      \n",
              "  <style>\n",
              "    .colab-df-container {\n",
              "      display:flex;\n",
              "      flex-wrap:wrap;\n",
              "      gap: 12px;\n",
              "    }\n",
              "\n",
              "    .colab-df-convert {\n",
              "      background-color: #E8F0FE;\n",
              "      border: none;\n",
              "      border-radius: 50%;\n",
              "      cursor: pointer;\n",
              "      display: none;\n",
              "      fill: #1967D2;\n",
              "      height: 32px;\n",
              "      padding: 0 0 0 0;\n",
              "      width: 32px;\n",
              "    }\n",
              "\n",
              "    .colab-df-convert:hover {\n",
              "      background-color: #E2EBFA;\n",
              "      box-shadow: 0px 1px 2px rgba(60, 64, 67, 0.3), 0px 1px 3px 1px rgba(60, 64, 67, 0.15);\n",
              "      fill: #174EA6;\n",
              "    }\n",
              "\n",
              "    [theme=dark] .colab-df-convert {\n",
              "      background-color: #3B4455;\n",
              "      fill: #D2E3FC;\n",
              "    }\n",
              "\n",
              "    [theme=dark] .colab-df-convert:hover {\n",
              "      background-color: #434B5C;\n",
              "      box-shadow: 0px 1px 3px 1px rgba(0, 0, 0, 0.15);\n",
              "      filter: drop-shadow(0px 1px 2px rgba(0, 0, 0, 0.3));\n",
              "      fill: #FFFFFF;\n",
              "    }\n",
              "  </style>\n",
              "\n",
              "      <script>\n",
              "        const buttonEl =\n",
              "          document.querySelector('#df-01398f47-b7f7-4cce-aab0-2a0caa1de6bc button.colab-df-convert');\n",
              "        buttonEl.style.display =\n",
              "          google.colab.kernel.accessAllowed ? 'block' : 'none';\n",
              "\n",
              "        async function convertToInteractive(key) {\n",
              "          const element = document.querySelector('#df-01398f47-b7f7-4cce-aab0-2a0caa1de6bc');\n",
              "          const dataTable =\n",
              "            await google.colab.kernel.invokeFunction('convertToInteractive',\n",
              "                                                     [key], {});\n",
              "          if (!dataTable) return;\n",
              "\n",
              "          const docLinkHtml = 'Like what you see? Visit the ' +\n",
              "            '<a target=\"_blank\" href=https://colab.research.google.com/notebooks/data_table.ipynb>data table notebook</a>'\n",
              "            + ' to learn more about interactive tables.';\n",
              "          element.innerHTML = '';\n",
              "          dataTable['output_type'] = 'display_data';\n",
              "          await google.colab.output.renderOutput(dataTable, element);\n",
              "          const docLink = document.createElement('div');\n",
              "          docLink.innerHTML = docLinkHtml;\n",
              "          element.appendChild(docLink);\n",
              "        }\n",
              "      </script>\n",
              "    </div>\n",
              "  </div>\n",
              "  "
            ],
            "text/plain": [
              "  Path ClassId                      filepath\n",
              "0    0       0  /content/Combined_Test/0.jpg\n",
              "1    1       0  /content/Combined_Test/1.jpg\n",
              "2    2       0  /content/Combined_Test/2.jpg\n",
              "3    3       0  /content/Combined_Test/3.jpg\n",
              "4    4       0  /content/Combined_Test/4.jpg"
            ]
          },
          "execution_count": 28,
          "metadata": {},
          "output_type": "execute_result"
        }
      ],
      "source": [
        "combined_test_final.head(5)"
      ]
    },
    {
      "cell_type": "code",
      "execution_count": 20,
      "metadata": {
        "colab": {
          "base_uri": "https://localhost:8080/"
        },
        "id": "FXyup3-oqZwR",
        "outputId": "781c626f-e335-4c82-d0c8-d45dbe4621e6"
      },
      "outputs": [
        {
          "output_type": "stream",
          "name": "stdout",
          "text": [
            "You are using  Combined Dataset\n",
            "Testing dataset\n",
            "Found 9506 validated image filenames belonging to 21 classes.\n",
            "training dataset\n",
            "Found 25986 images belonging to 21 classes.\n",
            "validation dataset\n",
            "Found 6483 images belonging to 21 classes.\n"
          ]
        }
      ],
      "source": [
        "#Data Augmentation\n",
        "\n",
        "BATCH_SIZE = 256; \n",
        "\n",
        "train_datagen = ImageDataGenerator(\n",
        "                    rescale=1./255,\n",
        "                    #width_shift_range=0.2,\n",
        "                    #brightness_range=[0.3,1.0],\n",
        "                    #zoom_range=0.2,\n",
        "                    #shear_range=0.2,\n",
        "                    #height_shift_range=0.2,\n",
        "                    horizontal_flip=False,\n",
        "                    validation_split=0.2);\n",
        "valid_datagen = ImageDataGenerator(rescale=1./255,validation_split=0.2);\n",
        "test_datagen  = ImageDataGenerator(rescale=1./255);\n",
        "\n",
        "training_dataset = 'COMBINED' # Use GERMAN OR PERSIAN OR COMBINED\n",
        "\n",
        "if training_dataset == 'GERMAN':\n",
        "    \n",
        "    print('You are testing with German Dataset')\n",
        "    train_path ='/content/German/Train';\n",
        "    test_path= '/content/German/Test';\n",
        "    test_df = pd.read_csv('/content/German/Test.csv',dtype=\"string\");\n",
        "    for idx,val in enumerate(test_df['Path']):\n",
        "        test_df.loc[idx,'Path'] = f'/content/German/{val}'\n",
        "\n",
        "elif training_dataset == 'PERSIAN':\n",
        "    print('You are testing with Persian Dataset')\n",
        "    train_path ='/content/Persian/PTSD_Recognition/PTSD_Recognition/train';\n",
        "    test_path = '/content/Persian/PTSD_Recognition/PTSD_Recognition/test'\n",
        "    test_df = generate_PersianCSV();\n",
        "\n",
        "else:\n",
        "    print('You are using  Combined Dataset')\n",
        "    print(\"Testing dataset\")\n",
        "    train_path ='/content/Combined';\n",
        "    test_path = '/content/Merged_Testfolders';\n",
        "    test_df = combined_test_final;\n",
        "    test_df.columns= test_df.columns.str.strip().str.lower()\n",
        "    test_df['classid']=test_df['classid'].astype(str)\n",
        "    test_ds=test_datagen.flow_from_dataframe( test_df, x_col='filepath', y_col='classid', target_size=(224,224),batch_size=BATCH_SIZE)\n",
        "\n",
        "print(\"training dataset\")\n",
        "train_ds = train_datagen.flow_from_directory(train_path,\n",
        "                                             target_size=(224,224),\n",
        "                                             color_mode='rgb',\n",
        "                                             shuffle=True,\n",
        "                                             batch_size=BATCH_SIZE,\n",
        "                                             subset='training',\n",
        "                                             class_mode='categorical');\n",
        "                                             \n",
        "print(\"validation dataset\")\n",
        "valid_ds = valid_datagen.flow_from_directory(train_path,\n",
        "                                             target_size=(224,224),\n",
        "                                             batch_size=BATCH_SIZE,\n",
        "                                             color_mode='rgb',\n",
        "                                             subset='validation',\n",
        "                                             class_mode='categorical',\n",
        "                                             shuffle=False);                                       \n",
        "                                           \n",
        "\n",
        "if training_dataset  != 'COMBINED':\n",
        "    \n",
        "    test_df.columns= test_df.columns.str.strip().str.lower()\n",
        "    test_df['classid']=test_df['classid'].astype(str)\n",
        "    test_ds=test_datagen.flow_from_dataframe(test_df, x_col='path', y_col='classid',\n",
        "                                             target_size=(224,224), \n",
        "                                             class_mode=None,color_mode='rgb', \n",
        "                                             shuffle=False, batch_size=BATCH_SIZE)  "
      ]
    },
    {
      "cell_type": "code",
      "execution_count": 21,
      "metadata": {
        "colab": {
          "base_uri": "https://localhost:8080/"
        },
        "id": "jF2VAayBuLpU",
        "outputId": "6f97dde7-fbf7-4cbb-8713-dce38caca462"
      },
      "outputs": [
        {
          "output_type": "stream",
          "name": "stdout",
          "text": [
            "['0', '1', '10', '11', '12', '13', '14', '15', '16', '17', '18', '19', '2', '20', '3', '4', '5', '6', '7', '8', '9']\n",
            "21\n",
            "['0', '1', '10', '11', '12', '13', '14', '15', '16', '17', '18', '19', '2', '20', '3', '4', '5', '6', '7', '8', '9']\n"
          ]
        }
      ],
      "source": [
        "train_classList = list(train_ds.class_indices.keys());\n",
        "valid_classList = list(valid_ds.class_indices.keys());\n",
        "print(train_classList);\n",
        "print(len(train_classList));\n",
        "\n",
        "print(list(test_ds.class_indices.keys()))"
      ]
    },
    {
      "cell_type": "code",
      "execution_count": null,
      "metadata": {
        "colab": {
          "base_uri": "https://localhost:8080/"
        },
        "id": "3zNUIOrff4Wl",
        "outputId": "95b9bcbe-197c-4da1-f8b3-64b3b1fe4dd7"
      },
      "outputs": [
        {
          "data": {
            "text/plain": [
              "dict_keys(['0', '1', '10', '11', '12', '13', '14', '15', '16', '17', '18', '19', '2', '20', '3', '4', '5', '6', '7', '8', '9'])"
            ]
          },
          "execution_count": 31,
          "metadata": {},
          "output_type": "execute_result"
        }
      ],
      "source": [
        "test_ds.class_indices.keys()"
      ]
    },
    {
      "cell_type": "code",
      "execution_count": 22,
      "metadata": {
        "colab": {
          "base_uri": "https://localhost:8080/"
        },
        "id": "ukICqMQZ6Yk_",
        "outputId": "17954f26-9e21-4edc-fd8e-4dcc66a77a6c"
      },
      "outputs": [
        {
          "output_type": "stream",
          "name": "stderr",
          "text": [
            "100%|██████████| 25/25 [00:37<00:00,  1.50s/it]\n"
          ]
        }
      ],
      "source": [
        "batch_size = 256\n",
        "X_iter, Y_iter = next(valid_ds)\n",
        "X_valid = X_iter;\n",
        "Y_valid = Y_iter;\n",
        "for i in tqdm(range(int(valid_ds.n/batch_size))): \n",
        "    img, label = next(valid_ds)\n",
        "    X_valid = np.append(X_valid , img, axis=0 )\n",
        "    Y_valid = np.append(Y_valid, label, axis=0)"
      ]
    },
    {
      "cell_type": "code",
      "execution_count": 23,
      "metadata": {
        "id": "tLSFSSRqDCNR"
      },
      "outputs": [],
      "source": [
        "def truthPrediction(model,X_valid):\n",
        "    preds=model.predict(X_valid);\n",
        "    y_pred = np.argmax(preds,axis=1)\n",
        "    y_truth = np.argmax(Y_valid,axis=1);\n",
        "    print(y_truth.shape)\n",
        "    print(Y_valid.shape)\n",
        "    return (y_truth,y_pred)"
      ]
    },
    {
      "cell_type": "code",
      "execution_count": null,
      "metadata": {
        "colab": {
          "base_uri": "https://localhost:8080/"
        },
        "id": "F2Lsz8KY6dLP",
        "outputId": "cb5779ac-ce6c-4d86-a60b-7ed2523483af"
      },
      "outputs": [
        {
          "name": "stdout",
          "output_type": "stream",
          "text": [
            "(6483, 49, 49, 3) (6483, 21)\n"
          ]
        }
      ],
      "source": [
        "print(X_valid.shape, Y_valid.shape)"
      ]
    },
    {
      "cell_type": "code",
      "execution_count": null,
      "metadata": {
        "colab": {
          "base_uri": "https://localhost:8080/",
          "height": 112
        },
        "id": "sN8CIJz0waVR",
        "outputId": "0995da61-b1af-47ae-f2bf-a88c318cc8f1"
      },
      "outputs": [
        {
          "data": {
            "text/html": [
              "<div>\n",
              "<style scoped>\n",
              "    .dataframe tbody tr th:only-of-type {\n",
              "        vertical-align: middle;\n",
              "    }\n",
              "\n",
              "    .dataframe tbody tr th {\n",
              "        vertical-align: top;\n",
              "    }\n",
              "\n",
              "    .dataframe thead th {\n",
              "        text-align: right;\n",
              "    }\n",
              "</style>\n",
              "<table border=\"1\" class=\"dataframe\">\n",
              "  <thead>\n",
              "    <tr style=\"text-align: right;\">\n",
              "      <th></th>\n",
              "      <th>path</th>\n",
              "      <th>classid</th>\n",
              "      <th>filepath</th>\n",
              "    </tr>\n",
              "  </thead>\n",
              "  <tbody>\n",
              "    <tr>\n",
              "      <th>0</th>\n",
              "      <td>0</td>\n",
              "      <td>0</td>\n",
              "      <td>/dli/task/Combined_Test/0.jpg</td>\n",
              "    </tr>\n",
              "    <tr>\n",
              "      <th>1</th>\n",
              "      <td>1</td>\n",
              "      <td>0</td>\n",
              "      <td>/dli/task/Combined_Test/1.jpg</td>\n",
              "    </tr>\n",
              "  </tbody>\n",
              "</table>\n",
              "</div>"
            ],
            "text/plain": [
              "  path classid                       filepath\n",
              "0    0       0  /dli/task/Combined_Test/0.jpg\n",
              "1    1       0  /dli/task/Combined_Test/1.jpg"
            ]
          },
          "execution_count": 73,
          "metadata": {},
          "output_type": "execute_result"
        }
      ],
      "source": [
        "combined_test_final.head(2)"
      ]
    },
    {
      "cell_type": "markdown",
      "metadata": {
        "id": "my5lkUHlmxzV"
      },
      "source": [
        "# VGG 19Model Transfer Training\n"
      ]
    },
    {
      "cell_type": "code",
      "execution_count": 24,
      "metadata": {
        "id": "ivw7j25LFdwd",
        "outputId": "7c1e7f49-3d8e-430b-d161-55473b8eb034",
        "colab": {
          "base_uri": "https://localhost:8080/"
        }
      },
      "outputs": [
        {
          "output_type": "stream",
          "name": "stdout",
          "text": [
            "21\n"
          ]
        }
      ],
      "source": [
        "NUM_CLASS = len(test_ds.class_indices.keys())\n",
        "print(NUM_CLASS)"
      ]
    },
    {
      "cell_type": "code",
      "execution_count": 26,
      "metadata": {
        "colab": {
          "base_uri": "https://localhost:8080/"
        },
        "id": "RVfOrFK8m5Z0",
        "outputId": "a96e89fd-5250-4397-932f-ea185f04c1d7"
      },
      "outputs": [
        {
          "output_type": "stream",
          "name": "stdout",
          "text": [
            "Model: \"model\"\n",
            "_________________________________________________________________\n",
            " Layer (type)                Output Shape              Param #   \n",
            "=================================================================\n",
            " input_2 (InputLayer)        [(None, 224, 224, 3)]     0         \n",
            "                                                                 \n",
            " block1_conv1 (Conv2D)       (None, 224, 224, 64)      1792      \n",
            "                                                                 \n",
            " block1_conv2 (Conv2D)       (None, 224, 224, 64)      36928     \n",
            "                                                                 \n",
            " block1_pool (MaxPooling2D)  (None, 112, 112, 64)      0         \n",
            "                                                                 \n",
            " block2_conv1 (Conv2D)       (None, 112, 112, 128)     73856     \n",
            "                                                                 \n",
            " block2_conv2 (Conv2D)       (None, 112, 112, 128)     147584    \n",
            "                                                                 \n",
            " block2_pool (MaxPooling2D)  (None, 56, 56, 128)       0         \n",
            "                                                                 \n",
            " block3_conv1 (Conv2D)       (None, 56, 56, 256)       295168    \n",
            "                                                                 \n",
            " block3_conv2 (Conv2D)       (None, 56, 56, 256)       590080    \n",
            "                                                                 \n",
            " block3_conv3 (Conv2D)       (None, 56, 56, 256)       590080    \n",
            "                                                                 \n",
            " block3_conv4 (Conv2D)       (None, 56, 56, 256)       590080    \n",
            "                                                                 \n",
            " block3_pool (MaxPooling2D)  (None, 28, 28, 256)       0         \n",
            "                                                                 \n",
            " block4_conv1 (Conv2D)       (None, 28, 28, 512)       1180160   \n",
            "                                                                 \n",
            " block4_conv2 (Conv2D)       (None, 28, 28, 512)       2359808   \n",
            "                                                                 \n",
            " block4_conv3 (Conv2D)       (None, 28, 28, 512)       2359808   \n",
            "                                                                 \n",
            " block4_conv4 (Conv2D)       (None, 28, 28, 512)       2359808   \n",
            "                                                                 \n",
            " block4_pool (MaxPooling2D)  (None, 14, 14, 512)       0         \n",
            "                                                                 \n",
            " block5_conv1 (Conv2D)       (None, 14, 14, 512)       2359808   \n",
            "                                                                 \n",
            " block5_conv2 (Conv2D)       (None, 14, 14, 512)       2359808   \n",
            "                                                                 \n",
            " block5_conv3 (Conv2D)       (None, 14, 14, 512)       2359808   \n",
            "                                                                 \n",
            " block5_conv4 (Conv2D)       (None, 14, 14, 512)       2359808   \n",
            "                                                                 \n",
            " block5_pool (MaxPooling2D)  (None, 7, 7, 512)         0         \n",
            "                                                                 \n",
            " batch_normalization_2 (Batc  (None, 7, 7, 512)        2048      \n",
            " hNormalization)                                                 \n",
            "                                                                 \n",
            " global_average_pooling2d_1   (None, 512)              0         \n",
            " (GlobalAveragePooling2D)                                        \n",
            "                                                                 \n",
            " batch_normalization_3 (Batc  (None, 512)              2048      \n",
            " hNormalization)                                                 \n",
            "                                                                 \n",
            " dense (Dense)               (None, 128)               65664     \n",
            "                                                                 \n",
            " batch_normalization_4 (Batc  (None, 128)              512       \n",
            " hNormalization)                                                 \n",
            "                                                                 \n",
            " dropout (Dropout)           (None, 128)               0         \n",
            "                                                                 \n",
            " dense_1 (Dense)             (None, 128)               16512     \n",
            "                                                                 \n",
            " batch_normalization_5 (Batc  (None, 128)              512       \n",
            " hNormalization)                                                 \n",
            "                                                                 \n",
            " dense_2 (Dense)             (None, 128)               16512     \n",
            "                                                                 \n",
            " batch_normalization_6 (Batc  (None, 128)              512       \n",
            " hNormalization)                                                 \n",
            "                                                                 \n",
            " dense_3 (Dense)             (None, 21)                2709      \n",
            "                                                                 \n",
            "=================================================================\n",
            "Total params: 20,131,413\n",
            "Trainable params: 20,128,597\n",
            "Non-trainable params: 2,816\n",
            "_________________________________________________________________\n",
            "Total number of layers : 33\n"
          ]
        }
      ],
      "source": [
        "#Reference Paper: https://arxiv.org/pdf/1409.1556v6.pdf\n",
        "\n",
        "#Using Tensorflor 2.6 in NVIDIA, HeNormal is not supported\n",
        "from tensorflow.keras.models import Model;\n",
        "\n",
        "from tensorflow.keras.initializers import HeNormal;\n",
        "\n",
        "base_model = VGG19(include_top = False,weights='imagenet',input_shape=(224,224,3));\n",
        "x = base_model.output;\n",
        "x = BatchNormalization()(x)\n",
        "x = GlobalAveragePooling2D()(x);\n",
        "x = BatchNormalization()(x)\n",
        "x = Dense(128,activation='relu', kernel_initializer=HeNormal())(x);\n",
        "x = BatchNormalization()(x)\n",
        "x = Dropout(0.25)(x)\n",
        "x = Dense(128,activation='relu', kernel_initializer=HeNormal())(x);\n",
        "x = BatchNormalization()(x);\n",
        "#x = Dropout(0.50)(x)\n",
        "x = Dense(128,activation='relu', kernel_initializer=HeNormal())(x);\n",
        "x = BatchNormalization()(x);\n",
        "#x = Dropout(0.50)(x)\n",
        "predictions = Dense(NUM_CLASS,activation='softmax')(x);\n",
        "vgg_model = Model(inputs=base_model.inputs,outputs=predictions);\n",
        "\n",
        "vgg_model.summary();\n",
        "print(f'Total number of layers : {len(vgg_model.layers)}')\n"
      ]
    },
    {
      "cell_type": "code",
      "execution_count": null,
      "metadata": {
        "colab": {
          "base_uri": "https://localhost:8080/"
        },
        "id": "_WcIq2vqyR74",
        "outputId": "016a2683-5821-4550-a1ac-2e03c5fb4e7f"
      },
      "outputs": [
        {
          "data": {
            "text/plain": [
              "[<tensorflow.python.keras.layers.convolutional.Conv2D at 0x7fef6b2b42e8>,\n",
              " <tensorflow.python.keras.layers.pooling.MaxPooling2D at 0x7fef6b2b9208>,\n",
              " <tensorflow.python.keras.layers.normalization_v2.BatchNormalization at 0x7fef6b251ba8>,\n",
              " <tensorflow.python.keras.layers.pooling.GlobalAveragePooling2D at 0x7fef6b251a58>,\n",
              " <tensorflow.python.keras.layers.normalization_v2.BatchNormalization at 0x7fef6b251be0>,\n",
              " <tensorflow.python.keras.layers.core.Dense at 0x7fef6b01fb38>,\n",
              " <tensorflow.python.keras.layers.normalization_v2.BatchNormalization at 0x7fef69aa82e8>,\n",
              " <tensorflow.python.keras.layers.core.Dropout at 0x7fef69aa85f8>,\n",
              " <tensorflow.python.keras.layers.core.Dense at 0x7fef69aa84e0>,\n",
              " <tensorflow.python.keras.layers.normalization_v2.BatchNormalization at 0x7fef69adda20>,\n",
              " <tensorflow.python.keras.layers.core.Dense at 0x7fef69a646a0>,\n",
              " <tensorflow.python.keras.layers.normalization_v2.BatchNormalization at 0x7fef69a989e8>,\n",
              " <tensorflow.python.keras.layers.core.Dense at 0x7fef69a98ba8>]"
            ]
          },
          "execution_count": 37,
          "metadata": {},
          "output_type": "execute_result"
        }
      ],
      "source": [
        "vgg_model.layers[20:]"
      ]
    },
    {
      "cell_type": "code",
      "execution_count": 27,
      "metadata": {
        "id": "c6Cihp2vm-Xk"
      },
      "outputs": [],
      "source": [
        "#Freezing Layers:\n",
        "'''\n",
        "for layer in model.layers[:20]:\n",
        "   layer.trainable = False\n",
        "for layer in model.layers[20:]:\n",
        "   layer.trainable = True\n",
        "   \n",
        "'''\n",
        "for layer in base_model.layers:\n",
        "    layer.trainable = False\n",
        " "
      ]
    },
    {
      "cell_type": "code",
      "execution_count": 28,
      "metadata": {
        "colab": {
          "base_uri": "https://localhost:8080/"
        },
        "id": "JDIQwtWnnUQ3",
        "outputId": "e0a3f0c2-305c-4032-c2c6-83c8fd57c8e5"
      },
      "outputs": [
        {
          "output_type": "stream",
          "name": "stdout",
          "text": [
            "Epoch 1/30\n",
            "101/101 [==============================] - 267s 2s/step - loss: 1.7640 - accuracy: 0.4646 - val_loss: 2.5052 - val_accuracy: 0.2133\n",
            "Epoch 2/30\n",
            "101/101 [==============================] - 187s 2s/step - loss: 1.0170 - accuracy: 0.6761 - val_loss: 1.9793 - val_accuracy: 0.3439\n",
            "Epoch 3/30\n",
            "101/101 [==============================] - 189s 2s/step - loss: 0.7943 - accuracy: 0.7453 - val_loss: 1.7645 - val_accuracy: 0.4339\n",
            "Epoch 4/30\n",
            "101/101 [==============================] - 190s 2s/step - loss: 0.6579 - accuracy: 0.7861 - val_loss: 1.5342 - val_accuracy: 0.5306\n",
            "Epoch 5/30\n",
            "101/101 [==============================] - 190s 2s/step - loss: 0.5796 - accuracy: 0.8106 - val_loss: 1.4714 - val_accuracy: 0.5673\n",
            "Epoch 6/30\n",
            "101/101 [==============================] - 190s 2s/step - loss: 0.5189 - accuracy: 0.8295 - val_loss: 1.4212 - val_accuracy: 0.6062\n",
            "Epoch 7/30\n",
            "101/101 [==============================] - 190s 2s/step - loss: 0.4669 - accuracy: 0.8454 - val_loss: 1.4702 - val_accuracy: 0.6152\n",
            "Epoch 8/30\n",
            "101/101 [==============================] - 190s 2s/step - loss: 0.4361 - accuracy: 0.8560 - val_loss: 1.4401 - val_accuracy: 0.6277\n",
            "Epoch 9/30\n",
            "101/101 [==============================] - 189s 2s/step - loss: 0.4013 - accuracy: 0.8682 - val_loss: 1.4534 - val_accuracy: 0.6089\n",
            "Epoch 10/30\n",
            "101/101 [==============================] - 190s 2s/step - loss: 0.3731 - accuracy: 0.8763 - val_loss: 1.3979 - val_accuracy: 0.6369\n",
            "Epoch 11/30\n",
            "101/101 [==============================] - 190s 2s/step - loss: 0.3504 - accuracy: 0.8827 - val_loss: 1.5023 - val_accuracy: 0.6127\n",
            "Epoch 12/30\n",
            "101/101 [==============================] - 189s 2s/step - loss: 0.3365 - accuracy: 0.8867 - val_loss: 1.5427 - val_accuracy: 0.6295\n",
            "Epoch 13/30\n",
            "101/101 [==============================] - 189s 2s/step - loss: 0.3227 - accuracy: 0.8910 - val_loss: 1.5146 - val_accuracy: 0.6192\n",
            "Epoch 14/30\n",
            "101/101 [==============================] - 189s 2s/step - loss: 0.3020 - accuracy: 0.8984 - val_loss: 1.5325 - val_accuracy: 0.6347\n",
            "Epoch 15/30\n",
            "101/101 [==============================] - 189s 2s/step - loss: 0.2934 - accuracy: 0.9009 - val_loss: 1.5652 - val_accuracy: 0.6261\n"
          ]
        },
        {
          "output_type": "execute_result",
          "data": {
            "text/plain": [
              "<keras.callbacks.History at 0x7fac505d6510>"
            ]
          },
          "metadata": {},
          "execution_count": 28
        }
      ],
      "source": [
        "from tensorflow.keras.optimizers import SGD,Adam;\n",
        "from tensorflow.keras.callbacks import EarlyStopping;\n",
        "\n",
        "train_steps = int(train_ds.n/BATCH_SIZE) # train_samples / batch size\n",
        "valid_steps = int(valid_ds.n/BATCH_SIZE) # valid_samples / batch_size\n",
        "vgg_model.compile(loss=\"categorical_crossentropy\",\n",
        "              optimizer=Adam(learning_rate=0.001,beta_1=0.9,beta_2=0.999),\n",
        "              metrics=['accuracy']);\n",
        "es = EarlyStopping(monitor='val_accuracy',patience=5,restore_best_weights=True)\n",
        "vgg_model.fit(train_ds,\n",
        "          steps_per_epoch=train_steps,\n",
        "          epochs=30,\n",
        "          verbose=1,\n",
        "          validation_data=valid_ds,\n",
        "          validation_steps=valid_steps,\n",
        "          callbacks=[es])\n"
      ]
    },
    {
      "cell_type": "code",
      "execution_count": null,
      "metadata": {
        "id": "RQXFajKUC35v"
      },
      "outputs": [],
      "source": [
        "#Save the model,\n",
        "from keras.models import model_from_json\n",
        "model_json = model.to_json()\n",
        "with open(\"model.json\", \"w\") as json_file:\n",
        "    json_file.write(model_json)\n",
        "vgg_model.save_weights(\"vgg19_model.h5\")\n",
        "print(\"Saved model to disk\")"
      ]
    },
    {
      "cell_type": "code",
      "execution_count": null,
      "metadata": {
        "id": "0nUDfjRSDhYl"
      },
      "outputs": [],
      "source": [
        "#After ram exceeded load the weights \n",
        "from tensorflow.keras.models import model_from_json\n",
        "json_file = open('model.json', 'r')\n",
        "loaded_model_json = json_file.read()\n",
        "json_file.close()\n",
        "loaded_model = model_from_json(loaded_model_json)\n",
        "\n",
        "loaded_model.load_weights(\"vgg19_model.h5\")\n",
        "print(\"Loaded model from disk\")"
      ]
    },
    {
      "cell_type": "code",
      "execution_count": 29,
      "metadata": {
        "id": "fJYESvE95143",
        "colab": {
          "base_uri": "https://localhost:8080/"
        },
        "outputId": "5d5560b3-7569-4876-919c-a00094c7cc6f"
      },
      "outputs": [
        {
          "output_type": "stream",
          "name": "stdout",
          "text": [
            "38/38 [==============================] - 55s 1s/step - loss: 1.1247 - accuracy: 0.6909\n",
            "[1.124682903289795, 0.690932035446167]\n"
          ]
        }
      ],
      "source": [
        "evaluation = vgg_model.evaluate(test_ds)\n",
        "print(evaluation)"
      ]
    },
    {
      "cell_type": "code",
      "execution_count": null,
      "metadata": {
        "colab": {
          "base_uri": "https://localhost:8080/"
        },
        "id": "Ms1953o3DN9u",
        "outputId": "3bb1115e-b307-4ff1-c708-276ea9baa4fb"
      },
      "outputs": [
        {
          "name": "stdout",
          "output_type": "stream",
          "text": [
            "(4200, 224, 224, 3) (4200, 21)\n"
          ]
        }
      ],
      "source": [
        "print(X_valid.shape, Y_valid.shape)"
      ]
    },
    {
      "cell_type": "code",
      "execution_count": 30,
      "metadata": {
        "colab": {
          "base_uri": "https://localhost:8080/"
        },
        "id": "sp5H8tE2DSB8",
        "outputId": "22d9b8e6-ae1a-4503-ebcf-8eb6c53caf93"
      },
      "outputs": [
        {
          "output_type": "stream",
          "name": "stdout",
          "text": [
            "(6483,)\n",
            "(6483, 21)\n"
          ]
        }
      ],
      "source": [
        "model = vgg_model\n",
        "output = truthPrediction(model,X_valid)"
      ]
    },
    {
      "cell_type": "code",
      "execution_count": 31,
      "metadata": {
        "colab": {
          "base_uri": "https://localhost:8080/",
          "height": 634
        },
        "id": "pvLdOQAXDUC1",
        "outputId": "22d7dd91-cf1f-422a-d3b6-8e53de8680c6"
      },
      "outputs": [
        {
          "output_type": "stream",
          "name": "stderr",
          "text": [
            "findfont: Font family ['Times New Roman'] not found. Falling back to DejaVu Sans.\n"
          ]
        },
        {
          "output_type": "display_data",
          "data": {
            "text/plain": [
              "<Figure size 1296x720 with 2 Axes>"
            ],
            "image/png": "[encoded data removed]"
          },
          "metadata": {
            "needs_background": "light"
          }
        }
      ],
      "source": [
        "import seaborn as sns\n",
        "conf = confusion_matrix(output[0], output[1])\n",
        "plt.figure(figsize=(18,10))\n",
        "ax = sns.heatmap(conf, annot=True, fmt=\"d\", vmax=20)\n",
        "ax.set(xlabel='Predicted Label',\n",
        "       ylabel='True label');\n",
        "ax.xaxis.set_ticklabels(train_classList)\n",
        "ax.yaxis.set_ticklabels(train_classList)\n",
        "plt.xticks(fontsize=14, fontname='Times New Roman',rotation=90)\n",
        "plt.yticks(fontsize=14, fontname='Times New Roman')\n",
        "plt.show()"
      ]
    },
    {
      "cell_type": "code",
      "execution_count": 32,
      "metadata": {
        "id": "mtskshHDDVwC",
        "outputId": "c05460ec-98cc-4f56-f628-bb3b27c5d6c0",
        "colab": {
          "base_uri": "https://localhost:8080/"
        }
      },
      "outputs": [
        {
          "output_type": "stream",
          "name": "stdout",
          "text": [
            "              precision    recall  f1-score   support\n",
            "\n",
            "           0       0.58      0.64      0.61       539\n",
            "           1       0.50      0.59      0.54       500\n",
            "           2       0.58      0.46      0.52       138\n",
            "           3       0.48      0.51      0.50       327\n",
            "           4       0.39      0.37      0.38       107\n",
            "           5       0.60      0.70      0.65       174\n",
            "           6       0.61      0.19      0.29       186\n",
            "           7       0.28      0.39      0.33       155\n",
            "           8       0.33      0.28      0.31       106\n",
            "           9       0.73      0.80      0.76       376\n",
            "          10       0.65      0.84      0.73       554\n",
            "          11       0.80      0.45      0.58       133\n",
            "          12       0.60      0.37      0.46       339\n",
            "          13       0.54      0.39      0.45       171\n",
            "          14       0.52      0.56      0.54       404\n",
            "          15       0.72      0.40      0.52       387\n",
            "          16       0.59      0.88      0.70       431\n",
            "          17       0.90      0.84      0.87       508\n",
            "          18       0.93      0.97      0.95       221\n",
            "          19       0.96      0.80      0.87       408\n",
            "          20       0.78      0.75      0.77       319\n",
            "\n",
            "    accuracy                           0.64      6483\n",
            "   macro avg       0.62      0.58      0.59      6483\n",
            "weighted avg       0.65      0.64      0.63      6483\n",
            "\n"
          ]
        }
      ],
      "source": [
        "from sklearn.metrics import classification_report, confusion_matrix\n",
        "import seaborn as sns\n",
        "print(classification_report(output[0], output[1]))"
      ]
    },
    {
      "cell_type": "code",
      "source": [
        "print(per_test_map[11])"
      ],
      "metadata": {
        "id": "1dN01awsC0Q5",
        "outputId": "d2a4d2bf-f473-4442-9350-3328191acb5e",
        "colab": {
          "base_uri": "https://localhost:8080/"
        }
      },
      "execution_count": 37,
      "outputs": [
        {
          "output_type": "stream",
          "name": "stdout",
          "text": [
            "Road Work\n"
          ]
        }
      ]
    },
    {
      "cell_type": "markdown",
      "metadata": {
        "id": "GoPFMlR14HtH"
      },
      "source": [
        "# ResNet50 Model Training\n"
      ]
    },
    {
      "cell_type": "code",
      "execution_count": null,
      "metadata": {
        "id": "_ydVFs2M4tyR"
      },
      "outputs": [],
      "source": [
        "# Overfitting -> tried with Dropout,batch normalization, L1 L2 \n",
        "#Resnet_Model:https://arxiv.org/pdf/1512.03385.pdf\n",
        "\n",
        "from tensorflow.keras.models import Model;\n",
        "from tensorflow.keras.initializers import HeNormal;\n",
        "from tensorflow.keras import regularizers\n",
        "base_model = ResNet50(include_top = False,weights='imagenet',input_shape=(224,224,3));\n",
        "x = base_model.output;\n",
        "x = GlobalAveragePooling2D()(x);\n",
        "x = BatchNormalization()(x)\n",
        "x = Dense(128,activation='relu',\n",
        "          kernel_initializer=HeNormal()\n",
        "         # kernel_regularizer=regularizers.L1L2(l1=1e-5, l2=1e-4)\n",
        "         )(x);\n",
        "x = BatchNormalization()(x)\n",
        "x = Dropout(0.40)(x)\n",
        "x = Dense(128,activation='relu',\n",
        "          kernel_initializer=HeNormal(),\n",
        "          #kernel_regularizer=regularizers.L1L2(l1=1e-5, l2=1e-4)\n",
        "          )(x);\n",
        "\n",
        "x = BatchNormalization()(x)\n",
        "x = Dense(128,activation='relu',\n",
        "          kernel_initializer=HeNormal(),\n",
        "          #kernel_regularizer=regularizers.L1L2(l1=1e-5, l2=1e-4)\n",
        "          )(x);\n",
        "x = BatchNormalization()(x)\n",
        "predictions = Dense(NUM_CLASS,activation='softmax')(x);\n",
        "resnet_model = Model(inputs=base_model.inputs,outputs=predictions);\n",
        "resnet_model.summary();\n",
        "print(len(resnet_model.layers))\n"
      ]
    },
    {
      "cell_type": "code",
      "execution_count": null,
      "metadata": {
        "id": "FOyZ43Qf_aHj"
      },
      "outputs": [],
      "source": [
        "for layer in base_model.layers:\n",
        "  layer.trainable = False;"
      ]
    },
    {
      "cell_type": "code",
      "execution_count": null,
      "metadata": {
        "id": "tVqFoRTC7LZ9"
      },
      "outputs": [],
      "source": [
        "from tensorflow.keras.optimizers import SGD,Adam;\n",
        "from tensorflow.keras.callbacks import EarlyStopping;\n",
        "\n",
        "resnet_model.compile(loss=\"categorical_crossentropy\",optimizer=Adam( learning_rate=0.002,beta_1=0.9,beta_2=0.999),metrics=['accuracy']);\n",
        "es = EarlyStopping(monitor=\"val_accuracy\",patience=15,restore_best_weights=True)\n",
        "resnet_model.fit(train_ds,\n",
        "         steps_per_epoch=train_steps,\n",
        "          epochs=150,\n",
        "          verbose=1,\n",
        "          validation_data=valid_ds,\n",
        "          validation_steps=val_steps,\n",
        "          callbacks=[es])\n"
      ]
    },
    {
      "cell_type": "code",
      "execution_count": null,
      "metadata": {
        "colab": {
          "base_uri": "https://localhost:8080/"
        },
        "id": "DViBMRYG8PSw",
        "outputId": "9c79895a-c0be-40b9-c656-e446d0c1016d"
      },
      "outputs": [
        {
          "name": "stdout",
          "output_type": "stream",
          "text": [
            "Saved model to disk\n",
            "Loaded model from disk\n"
          ]
        }
      ],
      "source": [
        "#In case of ram is excausted \n",
        "from tensorflow.keras.models import model_from_json\n",
        "model_json = resnet_model.to_json()\n",
        "with open(\"model.json\", \"w\") as json_file:\n",
        "    json_file.write(model_json)\n",
        "resnet_model.save_weights(\"resnet_model.h5\")\n",
        "print(\"Saved model to disk\")"
      ]
    },
    {
      "cell_type": "code",
      "execution_count": null,
      "metadata": {
        "id": "ZzDggtSiEHyD"
      },
      "outputs": [],
      "source": [
        "#After ram exceeded load the weights \n",
        "from tensorflow.keras.models import model_from_json\n",
        "json_file = open('model.json', 'r')\n",
        "loaded_model_json = json_file.read()\n",
        "json_file.close()\n",
        "loaded_model = model_from_json(loaded_model_json)\n",
        "\n",
        "loaded_model.load_weights(\"resnet_model.h5\")\n",
        "print(\"Loaded model from disk\")"
      ]
    },
    {
      "cell_type": "code",
      "execution_count": null,
      "metadata": {
        "id": "RH9vwSVxOY_y"
      },
      "outputs": [],
      "source": [
        "evaluation = vgg_model.evaluate(test_ds)\n",
        "print(evaluation)"
      ]
    },
    {
      "cell_type": "code",
      "execution_count": null,
      "metadata": {
        "id": "ooemr4X8OdN9"
      },
      "outputs": [],
      "source": [
        "print(X_valid.shape, Y_valid.shape)"
      ]
    },
    {
      "cell_type": "code",
      "execution_count": null,
      "metadata": {
        "id": "40qyvl3MD2Au"
      },
      "outputs": [],
      "source": [
        "model = loaded_model # if in case the ram exceeds \n",
        "output = truthPrediction(model,X_valid)"
      ]
    },
    {
      "cell_type": "code",
      "execution_count": null,
      "metadata": {
        "id": "Y1h4RaDlD4v9"
      },
      "outputs": [],
      "source": [
        "import seaborn as sns\n",
        "conf = confusion_matrix(output[0], output[1])\n",
        "plt.figure(figsize=(18,10))\n",
        "ax = sns.heatmap(conf, annot=True, fmt=\"d\", vmax=20)\n",
        "ax.set(xlabel='Predicted Label',\n",
        "       ylabel='True label');\n",
        "ax.xaxis.set_ticklabels(train_classList)\n",
        "ax.yaxis.set_ticklabels(train_classList)\n",
        "plt.xticks(fontsize=14, fontname='Times New Roman',rotation=90)\n",
        "plt.yticks(fontsize=14, fontname='Times New Roman')\n",
        "plt.show()"
      ]
    },
    {
      "cell_type": "code",
      "execution_count": null,
      "metadata": {
        "id": "yXjqHn3_D6yG"
      },
      "outputs": [],
      "source": [
        "from sklearn.metrics import classification_report, confusion_matrix\n",
        "import seaborn as sns\n",
        "print(classification_report(output[0], output[1]))"
      ]
    },
    {
      "cell_type": "markdown",
      "metadata": {
        "id": "11AKIPnFUGqU"
      },
      "source": [
        "# Without Pretraining\n"
      ]
    },
    {
      "cell_type": "code",
      "execution_count": null,
      "metadata": {
        "id": "Mqx2m1lqUjpd"
      },
      "outputs": [],
      "source": [
        "from tensorflow.keras.layers import Dense, Dropout, Activation, Flatten, Conv2D, MaxPooling2D"
      ]
    },
    {
      "cell_type": "code",
      "execution_count": null,
      "metadata": {
        "id": "q5GW5twJUpBE"
      },
      "outputs": [],
      "source": [
        "from tensorflow.keras.models import Sequential"
      ]
    },
    {
      "cell_type": "code",
      "execution_count": null,
      "metadata": {
        "id": "FVPEOZxlFdwm"
      },
      "outputs": [],
      "source": [
        "NUM_CLASS = len(test_ds.class_indices.keys())"
      ]
    },
    {
      "cell_type": "code",
      "execution_count": null,
      "metadata": {
        "id": "ttDe4MfOFdwm"
      },
      "outputs": [],
      "source": [
        "\n",
        "model = Sequential()\n",
        "model.add(Conv2D(32, (3,3), strides=(1,1), padding='same', activation = 'relu', \n",
        "                     input_shape = (49, 49, 3)))\n",
        "model.add(MaxPooling2D(pool_size=(2,2)))\n",
        "model.add(Conv2D(32, (3,3), strides=(1,1), padding='same', \n",
        "                     activation = 'relu'))\n",
        "model.add(MaxPooling2D(pool_size=(2,2)))\n",
        "model.add(Conv2D(64, (3,3), strides=(1,1), padding='same', \n",
        "                     activation = 'relu'))\n",
        "model.add(Conv2D(64, (3,3), strides=(1,1), padding='same', \n",
        "                     activation = 'relu'))\n",
        "model.add(Conv2D(128, (3,3), strides=(1,1), padding='same', \n",
        "                     activation = 'relu'))\n",
        "model.add(MaxPooling2D(pool_size=(2,2)))\n",
        "model.add(Flatten())\n",
        "model.add(Dense(128))\n",
        "model.add(Dense(64))\n",
        "model.add(Dense(32))   \n",
        "model.add(Dense(NUM_CLASS))\n",
        "model.add(Activation(\"softmax\"))"
      ]
    },
    {
      "cell_type": "code",
      "execution_count": null,
      "metadata": {
        "colab": {
          "base_uri": "https://localhost:8080/"
        },
        "id": "-XdLStQ3Fdwm",
        "outputId": "e886d137-2bdb-4087-d990-32d23aa894b9"
      },
      "outputs": [
        {
          "name": "stdout",
          "output_type": "stream",
          "text": [
            "Model: \"sequential_4\"\n",
            "_________________________________________________________________\n",
            " Layer (type)                Output Shape              Param #   \n",
            "=================================================================\n",
            " conv2d_20 (Conv2D)          (None, 49, 49, 32)        896       \n",
            "                                                                 \n",
            " max_pooling2d_12 (MaxPoolin  (None, 24, 24, 32)       0         \n",
            " g2D)                                                            \n",
            "                                                                 \n",
            " conv2d_21 (Conv2D)          (None, 24, 24, 32)        9248      \n",
            "                                                                 \n",
            " max_pooling2d_13 (MaxPoolin  (None, 12, 12, 32)       0         \n",
            " g2D)                                                            \n",
            "                                                                 \n",
            " conv2d_22 (Conv2D)          (None, 12, 12, 64)        18496     \n",
            "                                                                 \n",
            " conv2d_23 (Conv2D)          (None, 12, 12, 64)        36928     \n",
            "                                                                 \n",
            " conv2d_24 (Conv2D)          (None, 12, 12, 128)       73856     \n",
            "                                                                 \n",
            " max_pooling2d_14 (MaxPoolin  (None, 6, 6, 128)        0         \n",
            " g2D)                                                            \n",
            "                                                                 \n",
            " flatten_4 (Flatten)         (None, 4608)              0         \n",
            "                                                                 \n",
            " dense_15 (Dense)            (None, 128)               589952    \n",
            "                                                                 \n",
            " dense_16 (Dense)            (None, 64)                8256      \n",
            "                                                                 \n",
            " dense_17 (Dense)            (None, 32)                2080      \n",
            "                                                                 \n",
            " dense_18 (Dense)            (None, 21)                693       \n",
            "                                                                 \n",
            " activation_3 (Activation)   (None, 21)                0         \n",
            "                                                                 \n",
            "=================================================================\n",
            "Total params: 740,405\n",
            "Trainable params: 740,405\n",
            "Non-trainable params: 0\n",
            "_________________________________________________________________\n"
          ]
        }
      ],
      "source": [
        "model.summary();"
      ]
    },
    {
      "cell_type": "code",
      "execution_count": null,
      "metadata": {
        "id": "tj3E0TDMFdwm"
      },
      "outputs": [],
      "source": [
        "from tensorflow.keras.optimizers import SGD,Adam;\n",
        "model.compile(loss=\"categorical_crossentropy\",\n",
        "              optimizer=Adam(learning_rate=0.001,beta_1=0.9,beta_2=0.999),\n",
        "              metrics=['accuracy']);"
      ]
    },
    {
      "cell_type": "code",
      "execution_count": null,
      "metadata": {
        "colab": {
          "base_uri": "https://localhost:8080/"
        },
        "id": "dRh5LYnSFdwm",
        "outputId": "db046c4b-c1eb-4e1e-86b3-3c63271d303b"
      },
      "outputs": [
        {
          "name": "stdout",
          "output_type": "stream",
          "text": [
            "Epoch 1/1000\n",
            "101/101 [==============================] - 33s 315ms/step - loss: 1.5437 - accuracy: 0.5310 - val_loss: 0.7897 - val_accuracy: 0.7706\n",
            "Epoch 2/1000\n",
            "101/101 [==============================] - 32s 319ms/step - loss: 0.3078 - accuracy: 0.9068 - val_loss: 0.4562 - val_accuracy: 0.8739\n",
            "Epoch 3/1000\n",
            "101/101 [==============================] - 32s 315ms/step - loss: 0.1233 - accuracy: 0.9653 - val_loss: 0.3998 - val_accuracy: 0.8963\n",
            "Epoch 4/1000\n",
            "101/101 [==============================] - 34s 333ms/step - loss: 0.0676 - accuracy: 0.9812 - val_loss: 0.4122 - val_accuracy: 0.8927\n",
            "Epoch 5/1000\n",
            "101/101 [==============================] - 32s 316ms/step - loss: 0.0532 - accuracy: 0.9841 - val_loss: 0.3946 - val_accuracy: 0.9077\n",
            "Epoch 6/1000\n",
            "101/101 [==============================] - 31s 308ms/step - loss: 0.0303 - accuracy: 0.9908 - val_loss: 0.4399 - val_accuracy: 0.9114\n",
            "Epoch 7/1000\n",
            "101/101 [==============================] - 31s 308ms/step - loss: 0.0280 - accuracy: 0.9909 - val_loss: 0.3989 - val_accuracy: 0.9225\n",
            "Epoch 8/1000\n",
            "101/101 [==============================] - 31s 309ms/step - loss: 0.0168 - accuracy: 0.9946 - val_loss: 0.4988 - val_accuracy: 0.9017\n",
            "Epoch 9/1000\n",
            "101/101 [==============================] - 31s 307ms/step - loss: 0.0180 - accuracy: 0.9944 - val_loss: 0.5359 - val_accuracy: 0.8941\n",
            "Epoch 10/1000\n",
            "101/101 [==============================] - 31s 306ms/step - loss: 0.0156 - accuracy: 0.9956 - val_loss: 0.3428 - val_accuracy: 0.9250\n",
            "Epoch 11/1000\n",
            "101/101 [==============================] - 33s 332ms/step - loss: 0.0157 - accuracy: 0.9958 - val_loss: 0.3923 - val_accuracy: 0.9225\n",
            "Epoch 12/1000\n",
            "101/101 [==============================] - 31s 307ms/step - loss: 0.0076 - accuracy: 0.9979 - val_loss: 0.4298 - val_accuracy: 0.9202\n",
            "Epoch 13/1000\n",
            "101/101 [==============================] - 31s 306ms/step - loss: 0.0058 - accuracy: 0.9984 - val_loss: 0.4398 - val_accuracy: 0.9214\n",
            "Epoch 14/1000\n",
            "101/101 [==============================] - 35s 346ms/step - loss: 0.0086 - accuracy: 0.9971 - val_loss: 0.3880 - val_accuracy: 0.9333\n",
            "Epoch 15/1000\n",
            "101/101 [==============================] - 32s 311ms/step - loss: 0.0195 - accuracy: 0.9941 - val_loss: 0.4867 - val_accuracy: 0.9097\n",
            "Epoch 16/1000\n",
            "101/101 [==============================] - 33s 324ms/step - loss: 0.0221 - accuracy: 0.9935 - val_loss: 0.4458 - val_accuracy: 0.9050\n",
            "Epoch 17/1000\n",
            "101/101 [==============================] - 33s 322ms/step - loss: 0.0153 - accuracy: 0.9952 - val_loss: 0.3539 - val_accuracy: 0.9377\n",
            "Epoch 18/1000\n",
            "101/101 [==============================] - 31s 307ms/step - loss: 0.0067 - accuracy: 0.9977 - val_loss: 0.3928 - val_accuracy: 0.9339\n",
            "Epoch 19/1000\n",
            "101/101 [==============================] - 31s 305ms/step - loss: 0.0135 - accuracy: 0.9959 - val_loss: 0.2833 - val_accuracy: 0.9414\n",
            "Epoch 20/1000\n",
            "101/101 [==============================] - 33s 327ms/step - loss: 0.0065 - accuracy: 0.9981 - val_loss: 0.3246 - val_accuracy: 0.9372\n",
            "Epoch 21/1000\n",
            "101/101 [==============================] - 31s 307ms/step - loss: 0.0055 - accuracy: 0.9985 - val_loss: 0.2816 - val_accuracy: 0.9422\n",
            "Epoch 22/1000\n",
            "101/101 [==============================] - 31s 305ms/step - loss: 0.0070 - accuracy: 0.9981 - val_loss: 0.3170 - val_accuracy: 0.9395\n",
            "Epoch 23/1000\n",
            "101/101 [==============================] - 31s 306ms/step - loss: 0.0034 - accuracy: 0.9988 - val_loss: 0.3663 - val_accuracy: 0.9408\n",
            "Epoch 24/1000\n",
            "101/101 [==============================] - 31s 305ms/step - loss: 4.0388e-04 - accuracy: 0.9999 - val_loss: 0.4194 - val_accuracy: 0.9366\n",
            "Epoch 25/1000\n",
            "101/101 [==============================] - 31s 305ms/step - loss: 0.0071 - accuracy: 0.9978 - val_loss: 0.6963 - val_accuracy: 0.8970\n",
            "Epoch 26/1000\n",
            "101/101 [==============================] - 31s 303ms/step - loss: 0.0089 - accuracy: 0.9972 - val_loss: 0.4344 - val_accuracy: 0.9297\n",
            "Epoch 27/1000\n",
            "101/101 [==============================] - 31s 305ms/step - loss: 0.0157 - accuracy: 0.9954 - val_loss: 0.3077 - val_accuracy: 0.9384\n",
            "Epoch 28/1000\n",
            "101/101 [==============================] - 31s 305ms/step - loss: 0.0062 - accuracy: 0.9981 - val_loss: 0.3290 - val_accuracy: 0.9425\n",
            "Epoch 29/1000\n",
            "101/101 [==============================] - 31s 306ms/step - loss: 0.0144 - accuracy: 0.9961 - val_loss: 0.2848 - val_accuracy: 0.9359\n",
            "Epoch 30/1000\n",
            "101/101 [==============================] - 31s 309ms/step - loss: 0.0101 - accuracy: 0.9967 - val_loss: 0.3594 - val_accuracy: 0.9439\n",
            "Epoch 31/1000\n",
            "101/101 [==============================] - 31s 306ms/step - loss: 0.0105 - accuracy: 0.9970 - val_loss: 0.4690 - val_accuracy: 0.9230\n",
            "Epoch 32/1000\n",
            "101/101 [==============================] - 31s 306ms/step - loss: 0.0062 - accuracy: 0.9982 - val_loss: 0.2607 - val_accuracy: 0.9539\n",
            "Epoch 33/1000\n",
            "101/101 [==============================] - 31s 307ms/step - loss: 0.0046 - accuracy: 0.9988 - val_loss: 0.3153 - val_accuracy: 0.9478\n",
            "Epoch 34/1000\n",
            "101/101 [==============================] - 31s 307ms/step - loss: 9.8288e-04 - accuracy: 0.9998 - val_loss: 0.3885 - val_accuracy: 0.9400\n",
            "Epoch 35/1000\n",
            "101/101 [==============================] - 31s 308ms/step - loss: 0.0018 - accuracy: 0.9995 - val_loss: 0.4189 - val_accuracy: 0.9403\n",
            "Epoch 36/1000\n",
            "101/101 [==============================] - 31s 303ms/step - loss: 0.0027 - accuracy: 0.9992 - val_loss: 0.4173 - val_accuracy: 0.9350\n",
            "Epoch 37/1000\n",
            "101/101 [==============================] - 31s 304ms/step - loss: 0.0156 - accuracy: 0.9958 - val_loss: 0.3471 - val_accuracy: 0.9383\n",
            "Epoch 38/1000\n",
            "101/101 [==============================] - 31s 303ms/step - loss: 0.0110 - accuracy: 0.9965 - val_loss: 0.3990 - val_accuracy: 0.9330\n",
            "Epoch 39/1000\n",
            "101/101 [==============================] - 31s 304ms/step - loss: 0.0190 - accuracy: 0.9946 - val_loss: 0.4316 - val_accuracy: 0.9250\n",
            "Epoch 40/1000\n",
            "101/101 [==============================] - 31s 306ms/step - loss: 0.0108 - accuracy: 0.9969 - val_loss: 0.3806 - val_accuracy: 0.9395\n",
            "Epoch 41/1000\n",
            "101/101 [==============================] - 31s 304ms/step - loss: 0.0052 - accuracy: 0.9984 - val_loss: 0.2479 - val_accuracy: 0.9495\n",
            "Epoch 42/1000\n",
            "101/101 [==============================] - 31s 305ms/step - loss: 0.0096 - accuracy: 0.9973 - val_loss: 0.2865 - val_accuracy: 0.9484\n",
            "Epoch 43/1000\n",
            "101/101 [==============================] - 31s 305ms/step - loss: 0.0029 - accuracy: 0.9993 - val_loss: 0.2483 - val_accuracy: 0.9570\n",
            "Epoch 44/1000\n",
            "101/101 [==============================] - 31s 308ms/step - loss: 0.0013 - accuracy: 0.9995 - val_loss: 0.2427 - val_accuracy: 0.9623\n",
            "Epoch 45/1000\n",
            "101/101 [==============================] - 31s 307ms/step - loss: 5.5448e-04 - accuracy: 0.9998 - val_loss: 0.2940 - val_accuracy: 0.9463\n",
            "Epoch 46/1000\n",
            "101/101 [==============================] - 31s 308ms/step - loss: 0.0055 - accuracy: 0.9986 - val_loss: 0.3802 - val_accuracy: 0.9444\n",
            "Epoch 47/1000\n",
            "101/101 [==============================] - 31s 304ms/step - loss: 0.0068 - accuracy: 0.9978 - val_loss: 0.4766 - val_accuracy: 0.9431\n",
            "Epoch 48/1000\n",
            "101/101 [==============================] - 31s 304ms/step - loss: 0.0074 - accuracy: 0.9978 - val_loss: 0.3348 - val_accuracy: 0.9508\n",
            "Epoch 49/1000\n",
            "101/101 [==============================] - 31s 304ms/step - loss: 0.0064 - accuracy: 0.9986 - val_loss: 0.4342 - val_accuracy: 0.9433\n",
            "Epoch 50/1000\n",
            "101/101 [==============================] - 33s 324ms/step - loss: 0.0017 - accuracy: 0.9994 - val_loss: 0.3772 - val_accuracy: 0.9538\n",
            "Epoch 51/1000\n",
            "101/101 [==============================] - 33s 324ms/step - loss: 0.0031 - accuracy: 0.9993 - val_loss: 0.3482 - val_accuracy: 0.9556\n",
            "Epoch 52/1000\n",
            "101/101 [==============================] - 31s 303ms/step - loss: 0.0155 - accuracy: 0.9963 - val_loss: 0.3637 - val_accuracy: 0.9389\n",
            "Epoch 53/1000\n",
            "101/101 [==============================] - 31s 304ms/step - loss: 0.0129 - accuracy: 0.9961 - val_loss: 0.3225 - val_accuracy: 0.9408\n",
            "Epoch 54/1000\n",
            "101/101 [==============================] - 30s 301ms/step - loss: 0.0075 - accuracy: 0.9979 - val_loss: 0.2437 - val_accuracy: 0.9617\n",
            "Epoch 55/1000\n",
            "101/101 [==============================] - 30s 301ms/step - loss: 0.0097 - accuracy: 0.9975 - val_loss: 0.3043 - val_accuracy: 0.9505\n",
            "Epoch 56/1000\n",
            "101/101 [==============================] - 30s 301ms/step - loss: 0.0062 - accuracy: 0.9982 - val_loss: 0.3430 - val_accuracy: 0.9547\n",
            "Epoch 57/1000\n",
            "101/101 [==============================] - 30s 301ms/step - loss: 0.0024 - accuracy: 0.9993 - val_loss: 0.3202 - val_accuracy: 0.9602\n",
            "Epoch 58/1000\n",
            "101/101 [==============================] - 33s 323ms/step - loss: 0.0049 - accuracy: 0.9986 - val_loss: 0.2377 - val_accuracy: 0.9595\n",
            "Epoch 59/1000\n",
            "101/101 [==============================] - 31s 302ms/step - loss: 0.0012 - accuracy: 0.9995 - val_loss: 0.3008 - val_accuracy: 0.9586\n"
          ]
        },
        {
          "data": {
            "text/plain": [
              "<keras.callbacks.History at 0x7fb619f0c3d0>"
            ]
          },
          "execution_count": 96,
          "metadata": {},
          "output_type": "execute_result"
        }
      ],
      "source": [
        "from tensorflow.keras.callbacks import EarlyStopping;\n",
        "es = EarlyStopping(monitor='val_accuracy',patience=15,restore_best_weights=True)\n",
        "\n",
        "train_steps = int(train_ds.n/BATCH_SIZE) # train_samples / batch size\n",
        "valid_steps = int(valid_ds.n/BATCH_SIZE) # valid_samples / batch_size\n",
        "model.fit(train_ds,\n",
        "         steps_per_epoch=train_steps,\n",
        "          epochs=1000,\n",
        "          verbose=1,\n",
        "          validation_data=valid_ds,\n",
        "          validation_steps=valid_steps,\n",
        "          callbacks=[es])"
      ]
    },
    {
      "cell_type": "code",
      "execution_count": null,
      "metadata": {
        "colab": {
          "base_uri": "https://localhost:8080/",
          "height": 265
        },
        "id": "QaP_cDs2XLk4",
        "outputId": "3801f5b3-c1a1-4d92-9863-f25541a5c55a"
      },
      "outputs": [
        {
          "data": {
            "image/png": "[encoded data removed]",
            "text/plain": [
              "<Figure size 432x288 with 1 Axes>"
            ]
          },
          "metadata": {},
          "output_type": "display_data"
        }
      ],
      "source": [
        "plt.plot(model.history.history['accuracy'], label='train acc')\n",
        "plt.plot(model.history.history['val_accuracy'], label='val acc')\n",
        "plt.legend()\n",
        "plt.show()"
      ]
    },
    {
      "cell_type": "code",
      "execution_count": null,
      "metadata": {
        "colab": {
          "base_uri": "https://localhost:8080/",
          "height": 267
        },
        "id": "_x26qmm5apHP",
        "outputId": "6cf79085-e2a4-4387-d1f4-4ad55b7a55d2"
      },
      "outputs": [
        {
          "data": {
            "image/png": "[encoded data removed]",
            "text/plain": [
              "<Figure size 432x288 with 1 Axes>"
            ]
          },
          "metadata": {},
          "output_type": "display_data"
        }
      ],
      "source": [
        "plt.plot(model.history.history['loss'], label='train loss')\n",
        "plt.plot(model.history.history['val_loss'], label='val loss')\n",
        "plt.legend()\n",
        "plt.show()"
      ]
    },
    {
      "cell_type": "code",
      "execution_count": null,
      "metadata": {
        "colab": {
          "base_uri": "https://localhost:8080/"
        },
        "id": "4xuUrsRdFdwn",
        "outputId": "ef4edefa-99a7-42ed-8ecc-269c1eee89d5"
      },
      "outputs": [
        {
          "name": "stdout",
          "output_type": "stream",
          "text": [
            "38/38 [==============================] - 10s 268ms/step - loss: 0.2332 - accuracy: 0.9693\n"
          ]
        }
      ],
      "source": [
        "evaluation = model.evaluate(test_ds)"
      ]
    },
    {
      "cell_type": "code",
      "execution_count": null,
      "metadata": {
        "colab": {
          "base_uri": "https://localhost:8080/"
        },
        "id": "WkwwJ20vaG8P",
        "outputId": "635311d8-a640-4184-f1f4-e7e36dee8936"
      },
      "outputs": [
        {
          "name": "stdout",
          "output_type": "stream",
          "text": [
            "(6483,)\n",
            "(6483, 21)\n"
          ]
        }
      ],
      "source": [
        "model = model \n",
        "output = truthPrediction(model,X_valid)"
      ]
    },
    {
      "cell_type": "code",
      "execution_count": null,
      "metadata": {
        "colab": {
          "base_uri": "https://localhost:8080/",
          "height": 617
        },
        "id": "_0PJTF8IaOsi",
        "outputId": "2c266355-dff1-4c8e-98e5-b3e4d376442d"
      },
      "outputs": [
        {
          "data": {
            "image/png": "[encoded data removed]",
            "text/plain": [
              "<Figure size 1296x720 with 2 Axes>"
            ]
          },
          "metadata": {},
          "output_type": "display_data"
        }
      ],
      "source": [
        "import seaborn as sns\n",
        "conf = confusion_matrix(output[0], output[1])\n",
        "plt.figure(figsize=(18,10))\n",
        "ax = sns.heatmap(conf, annot=True, fmt=\"d\", vmax=20)\n",
        "ax.set(xlabel='Predicted Label',\n",
        "       ylabel='True label');\n",
        "ax.xaxis.set_ticklabels(train_classList)\n",
        "ax.yaxis.set_ticklabels(train_classList)\n",
        "plt.xticks(fontsize=14,rotation=90)\n",
        "plt.yticks(fontsize=14)\n",
        "plt.show()"
      ]
    },
    {
      "cell_type": "code",
      "execution_count": null,
      "metadata": {
        "colab": {
          "base_uri": "https://localhost:8080/"
        },
        "id": "1fLVXhHSaezr",
        "outputId": "4540102b-537c-4b7f-8a10-7a57e63580a3"
      },
      "outputs": [
        {
          "name": "stdout",
          "output_type": "stream",
          "text": [
            "              precision    recall  f1-score   support\n",
            "\n",
            "           0       0.95      0.96      0.96       539\n",
            "           1       0.99      0.93      0.96       500\n",
            "           2       0.97      1.00      0.98       138\n",
            "           3       0.93      0.98      0.96       327\n",
            "           4       0.95      0.99      0.97       107\n",
            "           5       0.82      1.00      0.90       174\n",
            "           6       0.93      0.61      0.74       186\n",
            "           7       0.97      0.95      0.96       155\n",
            "           8       0.92      0.92      0.92       106\n",
            "           9       0.98      1.00      0.99       376\n",
            "          10       0.99      1.00      0.99       554\n",
            "          11       0.92      1.00      0.96       133\n",
            "          12       0.95      0.96      0.95       339\n",
            "          13       0.98      0.84      0.90       171\n",
            "          14       0.93      0.98      0.95       404\n",
            "          15       0.95      0.93      0.94       387\n",
            "          16       0.99      0.99      0.99       431\n",
            "          17       1.00      0.99      1.00       508\n",
            "          18       0.99      1.00      0.99       221\n",
            "          19       1.00      0.99      1.00       408\n",
            "          20       0.98      1.00      0.99       319\n",
            "\n",
            "    accuracy                           0.96      6483\n",
            "   macro avg       0.96      0.95      0.95      6483\n",
            "weighted avg       0.96      0.96      0.96      6483\n",
            "\n"
          ]
        }
      ],
      "source": [
        "from sklearn.metrics import classification_report, confusion_matrix\n",
        "import seaborn as sns\n",
        "print(classification_report(output[0], output[1]))"
      ]
    },
    {
      "cell_type": "markdown",
      "metadata": {
        "id": "ql544v2xvOXf"
      },
      "source": [
        "# Prediction of Class\n"
      ]
    },
    {
      "cell_type": "code",
      "execution_count": null,
      "metadata": {
        "colab": {
          "base_uri": "https://localhost:8080/"
        },
        "id": "bFLLRMuvvR44",
        "outputId": "86f51f6e-a6c8-40d5-9199-1c2fd96007e2"
      },
      "outputs": [
        {
          "name": "stdout",
          "output_type": "stream",
          "text": [
            "(49, 49, 3)\n"
          ]
        }
      ],
      "source": [
        "from tensorflow.keras.applications.vgg19 import preprocess_input,decode_predictions\n",
        "from tensorflow.keras.preprocessing import image\n",
        "img_path = '/content/Combined_Test/125.jpg' \n",
        "\n",
        "img = image.load_img(img_path, target_size=(49, 49)) \n",
        "test = image.img_to_array(img)\n",
        "print(test.shape)"
      ]
    },
    {
      "cell_type": "code",
      "execution_count": null,
      "metadata": {
        "colab": {
          "base_uri": "https://localhost:8080/",
          "height": 285
        },
        "id": "ZxRzS72PHN8R",
        "outputId": "eec5aa8f-e0ff-49f1-9146-7c4bba34dac7"
      },
      "outputs": [
        {
          "data": {
            "text/plain": [
              "<matplotlib.image.AxesImage at 0x7fb61ac7b210>"
            ]
          },
          "execution_count": 78,
          "metadata": {},
          "output_type": "execute_result"
        },
        {
          "data": {
            "image/png": "[encoded data removed]",
            "text/plain": [
              "<Figure size 432x288 with 1 Axes>"
            ]
          },
          "metadata": {},
          "output_type": "display_data"
        }
      ],
      "source": [
        "import matplotlib.pyplot as plt\n",
        "plt.imshow(test/255)"
      ]
    },
    {
      "cell_type": "code",
      "execution_count": null,
      "metadata": {
        "colab": {
          "base_uri": "https://localhost:8080/"
        },
        "id": "8RyVzUIgHOFV",
        "outputId": "45bccc73-61cc-4d58-e003-5d63a1c4e141"
      },
      "outputs": [
        {
          "name": "stdout",
          "output_type": "stream",
          "text": [
            "(1, 49, 49, 3)\n"
          ]
        }
      ],
      "source": [
        "test = np.expand_dims(test, 0) \n",
        "print(test.shape)\n",
        "test = preprocess_input(test)"
      ]
    },
    {
      "cell_type": "code",
      "execution_count": null,
      "metadata": {
        "colab": {
          "base_uri": "https://localhost:8080/"
        },
        "id": "ocoTEsNmvyDM",
        "outputId": "a4291479-6739-4aa3-bcfc-ce19e9c3b85f"
      },
      "outputs": [
        {
          "name": "stdout",
          "output_type": "stream",
          "text": [
            "[[0. 0. 0. 1. 0. 0. 0. 0. 0. 0. 0. 0. 0. 0. 0. 0. 0. 0. 0. 0. 0.]]\n",
            "['0', '1', '10', '11', '12', '13', '14', '15', '16', '17', '18', '19', '2', '20', '3', '4', '5', '6', '7', '8', '9']\n",
            "Predicted class: 11\n"
          ]
        }
      ],
      "source": [
        "preds = model.predict(test)\n",
        "print(np.round(preds,4))\n",
        "print(train_classList)\n",
        "print('Predicted class:', train_classList[np.argmax(preds)])"
      ]
    },
    {
      "cell_type": "code",
      "execution_count": null,
      "metadata": {
        "id": "6u2RveecFdwm"
      },
      "outputs": [],
      "source": [
        ""
      ]
    },
    {
      "cell_type": "code",
      "execution_count": null,
      "metadata": {
        "id": "UUb3JaJeFdwm"
      },
      "outputs": [],
      "source": [
        ""
      ]
    },
    {
      "cell_type": "code",
      "execution_count": null,
      "metadata": {
        "id": "8lSA5VD_Qqe5"
      },
      "outputs": [],
      "source": [
        ""
      ]
    }
  ],
  "metadata": {
    "accelerator": "GPU",
    "colab": {
      "collapsed_sections": [
        "my5lkUHlmxzV",
        "GoPFMlR14HtH"
      ],
      "name": "TrasferLearning_TrafficSign_Two_Datasets -ipynb",
      "provenance": []
    },
    "kernelspec": {
      "display_name": "Python 3",
      "language": "python",
      "name": "python3"
    },
    "language_info": {
      "codemirror_mode": {
        "name": "ipython",
        "version": 3
      },
      "file_extension": ".py",
      "mimetype": "text/x-python",
      "name": "python",
      "nbconvert_exporter": "python",
      "pygments_lexer": "ipython3",
      "version": "3.6.9"
    }
  },
  "nbformat": 4,
  "nbformat_minor": 0
}